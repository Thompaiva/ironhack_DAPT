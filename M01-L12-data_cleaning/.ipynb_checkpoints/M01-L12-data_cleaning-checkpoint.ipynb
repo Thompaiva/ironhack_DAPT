{
 "cells": [
  {
   "cell_type": "markdown",
   "metadata": {
    "colab_type": "text",
    "id": "n5PumiMUZIVK"
   },
   "source": [
    "# Lab | Data Cleaning\n",
    "\n",
    "## Introduction\n",
    "\n",
    "We keep seeing a common phrase that 80% of the work of a data scientist is data cleaning. We have no idea whether this number is accurate but a data scientist indeed spends lots of time and effort in collecting, cleaning and preparing the data for analysis. This is because datasets are usually messy and complex in nature. It is a very important ability for a data scientist to refine and restructure datasets into a usable state in order to proceed to the data analysis stage.\n",
    "\n",
    "In this exercise, you will both practice the data cleaning techniques we discussed in the lesson and learn new techniques by looking up documentations and references. You will work on your own but remember the teaching staff is at your service whenever you encounter problems.\n",
    "\n",
    "\n",
    "## Resources\n",
    "\n",
    "[Data Cleaning with Numpy and Pandas](https://realpython.com/python-data-cleaning-numpy-pandas/#python-data-cleaning-recap-and-resources)\n",
    "\n",
    "[Data Preparation](https://www.kdnuggets.com/2017/06/7-steps-mastering-data-preparation-python.html)"
   ]
  },
  {
   "cell_type": "markdown",
   "metadata": {
    "colab_type": "text",
    "id": "zuHDm8EtZD4X"
   },
   "source": [
    "# Import library "
   ]
  },
  {
   "cell_type": "code",
   "execution_count": 1,
   "metadata": {},
   "outputs": [],
   "source": [
    "# Your code here\n",
    "import pandas as pd\n",
    "import numpy as np\n"
   ]
  },
  {
   "cell_type": "markdown",
   "metadata": {
    "colab_type": "text",
    "id": "JgKT-j3aZD4e"
   },
   "source": [
    "# Read the users dataset.\n",
    "\n",
    "Take a look at what is the `users.csv` separator."
   ]
  },
  {
   "cell_type": "code",
   "execution_count": null,
   "metadata": {},
   "outputs": [],
   "source": [
    "# Your code here\n",
    "path = 'data/users.csv'\n",
    "pokemon = pd.read_csv(path)"
   ]
  },
  {
   "cell_type": "markdown",
   "metadata": {
    "colab_type": "text",
    "id": "pmZ1D4wvZD4j"
   },
   "source": [
    "## Check its shape\n",
    "\n",
    "See the number of rows and columns you're dealing."
   ]
  },
  {
   "cell_type": "code",
   "execution_count": null,
   "metadata": {},
   "outputs": [],
   "source": [
    "# Your code here"
   ]
  },
  {
   "cell_type": "markdown",
   "metadata": {
    "colab_type": "text",
    "id": "BQHpNkApZD4k"
   },
   "source": [
    "## Use the .head() to see some rows of your dataframe."
   ]
  },
  {
   "cell_type": "code",
   "execution_count": null,
   "metadata": {},
   "outputs": [],
   "source": [
    "# Your code here"
   ]
  },
  {
   "cell_type": "markdown",
   "metadata": {
    "colab_type": "text",
    "id": "XhFTmi-hZD4o"
   },
   "source": [
    "## Get the data info. \n",
    "\n",
    "Which columns have a great number of missing values? How many space does this dataframe is occupying in your memory?\n",
    "\n",
    "Expected output:\n",
    "````\n",
    "<class 'pandas.core.frame.DataFrame'>\n",
    "RangeIndex: 40503 entries, 0 to 40502\n",
    "Data columns (total 14 columns):\n",
    " #   Column           Non-Null Count  Dtype  \n",
    "---  ------           --------------  -----  \n",
    " 0   Id               40503 non-null  int64  \n",
    " 1   Reputation       40503 non-null  int64  \n",
    " 2   CreationDate     40503 non-null  object \n",
    " 3   DisplayName      40497 non-null  object \n",
    " 4   LastAccessDate   40503 non-null  object \n",
    " 5   WebsiteUrl       8158 non-null   object \n",
    " 6   Location         11731 non-null  object \n",
    " 7   AboutMe          9424 non-null   object \n",
    " 8   Views            40503 non-null  int64  \n",
    " 9   UpVotes          40503 non-null  int64  \n",
    " 10  DownVotes        40503 non-null  int64  \n",
    " 11  AccountId        40503 non-null  int64  \n",
    " 12  Age              8352 non-null   float64\n",
    " 13  ProfileImageUrl  16540 non-null  object \n",
    "dtypes: float64(1), int64(6), object(7)\n",
    "memory usage: 4.3+ MB\n",
    "````"
   ]
  },
  {
   "cell_type": "code",
   "execution_count": null,
   "metadata": {},
   "outputs": [],
   "source": [
    "# Your code here"
   ]
  },
  {
   "cell_type": "markdown",
   "metadata": {
    "colab_type": "text",
    "id": "44boORWtZD4s"
   },
   "source": [
    "## Rename Id column to user_id.\n",
    "\n",
    "Remember to store you results back at the dataframe."
   ]
  },
  {
   "cell_type": "code",
   "execution_count": null,
   "metadata": {},
   "outputs": [],
   "source": [
    "# Your code here"
   ]
  },
  {
   "cell_type": "markdown",
   "metadata": {
    "colab_type": "text",
    "id": "sooo8FL4ZD4x"
   },
   "source": [
    "# Import the `posts_file.csv` dataset"
   ]
  },
  {
   "cell_type": "code",
   "execution_count": null,
   "metadata": {},
   "outputs": [],
   "source": [
    "# Your code here"
   ]
  },
  {
   "cell_type": "markdown",
   "metadata": {
    "colab_type": "text",
    "id": "flT6V-L0ZD43"
   },
   "source": [
    "## Perform the same as above to understand a bit of your data (head, info, shape)"
   ]
  },
  {
   "cell_type": "code",
   "execution_count": null,
   "metadata": {},
   "outputs": [],
   "source": [
    "# Your code here"
   ]
  },
  {
   "cell_type": "code",
   "execution_count": null,
   "metadata": {},
   "outputs": [],
   "source": [
    "# shape"
   ]
  },
  {
   "cell_type": "code",
   "execution_count": null,
   "metadata": {},
   "outputs": [],
   "source": [
    "# head"
   ]
  },
  {
   "cell_type": "code",
   "execution_count": null,
   "metadata": {},
   "outputs": [],
   "source": [
    "# info"
   ]
  },
  {
   "cell_type": "markdown",
   "metadata": {
    "colab_type": "text",
    "id": "mlUuQ7CxZD49"
   },
   "source": [
    "## Rename Id column to post_id and OwnerUserId to user_id.\n",
    "\n",
    "Again, remember to check that your results are correctly stored inside the dataframe."
   ]
  },
  {
   "cell_type": "code",
   "execution_count": null,
   "metadata": {},
   "outputs": [],
   "source": [
    "# Your code here"
   ]
  },
  {
   "cell_type": "markdown",
   "metadata": {
    "colab_type": "text",
    "id": "9YyLIe4sZD5D"
   },
   "source": [
    "## Define new dataframes for users and posts with the following selected columns:\n",
    "**users columns**: user_id, Reputation, Views, UpVotes, DownVotes  \n",
    "**posts columns**: post_id, Score, user_id, ViewCount, CommentCount, Body"
   ]
  },
  {
   "cell_type": "code",
   "execution_count": null,
   "metadata": {},
   "outputs": [],
   "source": [
    "# Your code here"
   ]
  },
  {
   "cell_type": "markdown",
   "metadata": {
    "colab_type": "text",
    "id": "73DgDQfOZD5K"
   },
   "source": [
    "## Merge the new dataframes you have created\n",
    "- Create dataframe called `posts_from_users` merging users and posts.\n",
    "- You will need to make an inner [merge](https://pandas.pydata.org/pandas-docs/stable/generated/pandas.DataFrame.merge.html) of posts and users dataframes. \n",
    "- Think carefully which should be the key(s) for your merging."
   ]
  },
  {
   "cell_type": "code",
   "execution_count": null,
   "metadata": {},
   "outputs": [],
   "source": [
    "# Your code here"
   ]
  },
  {
   "cell_type": "markdown",
   "metadata": {
    "colab_type": "text",
    "id": "hY51jNIBZD5P"
   },
   "source": [
    "## Check the number of duplicated rows.\n",
    "\n",
    "Remember you can sum the results of a mask to get how many numbers the True value appeared in the results. This occurs because `True` is interpreted as `1` in Python whereas `False` is interpreted as `0`."
   ]
  },
  {
   "cell_type": "code",
   "execution_count": null,
   "metadata": {},
   "outputs": [],
   "source": [
    "# Your code here"
   ]
  },
  {
   "cell_type": "markdown",
   "metadata": {
    "colab_type": "text",
    "id": "w3de3Sz-ZD5T"
   },
   "source": [
    "## Find those duplicate values and try to understand what happened.\n",
    "\n",
    "Hints:   \n",
    "- You can use the argument `keep=False` from the `.duplicated()` method to bring the duplication.\n",
    "- You can sort the values `by=['user_id', 'post_id']` to see them in order.  \n"
   ]
  },
  {
   "cell_type": "code",
   "execution_count": null,
   "metadata": {},
   "outputs": [],
   "source": [
    "# Your code here"
   ]
  },
  {
   "cell_type": "markdown",
   "metadata": {
    "colab_type": "text",
    "id": "gjdZ0DI-ZD5Y"
   },
   "source": [
    "## Should you drop it? \n",
    "If you think it is reasonable to drop it, then drop it. Think how would you correct it in the first place? That is, what was wrong in the first place?  \n",
    "*Hint: There's a pandas method to drop duplicates. If you wanted to do it by hand, you could select the indexes of the duplicated values and `.drop()` it.*"
   ]
  },
  {
   "cell_type": "code",
   "execution_count": null,
   "metadata": {},
   "outputs": [],
   "source": [
    "# Your code here"
   ]
  },
  {
   "cell_type": "markdown",
   "metadata": {
    "colab_type": "text",
    "id": "11ZlVVrXZD5l"
   },
   "source": [
    "## 10. How many missing values do you have in your merged dataframe? On which columns?"
   ]
  },
  {
   "cell_type": "code",
   "execution_count": null,
   "metadata": {},
   "outputs": [],
   "source": [
    "# Your code here"
   ]
  },
  {
   "cell_type": "markdown",
   "metadata": {
    "colab_type": "text",
    "id": "SdApjJ60ZD5s"
   },
   "source": [
    "## Select only the rows in which there at least some missing values."
   ]
  },
  {
   "cell_type": "code",
   "execution_count": null,
   "metadata": {},
   "outputs": [],
   "source": [
    "# Your code here"
   ]
  },
  {
   "cell_type": "markdown",
   "metadata": {
    "colab_type": "text",
    "id": "_FazwWY5ZD5x"
   },
   "source": [
    "## You will need to make something with missing values.  Will you clean or filling them? \n",
    "\n",
    "Pay attention. There can be different reasons for the missings numbers. Look at the `user_id` of some of them, look at the body of the message. Which ones you're sure of what should be and which one can you infer? Don't hurry up, take a look at your data."
   ]
  },
  {
   "cell_type": "code",
   "execution_count": null,
   "metadata": {},
   "outputs": [],
   "source": [
    "# Your code here"
   ]
  },
  {
   "cell_type": "markdown",
   "metadata": {},
   "source": [
    "## Reset the index"
   ]
  },
  {
   "cell_type": "code",
   "execution_count": null,
   "metadata": {},
   "outputs": [],
   "source": [
    "# Your code here"
   ]
  },
  {
   "cell_type": "markdown",
   "metadata": {
    "colab_type": "text",
    "id": "ML9wY9ngZD53"
   },
   "source": [
    "## Adjust the data types in order to avoid future issues. Which ones should be changed? "
   ]
  },
  {
   "cell_type": "code",
   "execution_count": null,
   "metadata": {},
   "outputs": [],
   "source": [
    "# Your code here"
   ]
  },
  {
   "cell_type": "markdown",
   "metadata": {
    "colab_type": "text",
    "id": "TGypCNS7ZD58"
   },
   "source": [
    "# Bonus (filtering) \n",
    "What is the average number of comments for users who are above the average reputation?  \n",
    "*Hint: Calculate the average of the user Reputation. Store it in a variable called `avg_reputation` and then use that variable for filtering the dataset and generating the results for each case (for the case in which `Reputation > avg_reputation`*"
   ]
  },
  {
   "cell_type": "code",
   "execution_count": null,
   "metadata": {},
   "outputs": [],
   "source": [
    "# Your code here"
   ]
  }
 ],
 "metadata": {
  "colab": {
   "collapsed_sections": [],
   "name": "data-cleaning-lab.ipynb",
   "provenance": []
  },
  "kernelspec": {
   "display_name": "Python 3 (ipykernel)",
   "language": "python",
   "name": "python3"
  },
  "language_info": {
   "codemirror_mode": {
    "name": "ipython",
    "version": 3
   },
   "file_extension": ".py",
   "mimetype": "text/x-python",
   "name": "python",
   "nbconvert_exporter": "python",
   "pygments_lexer": "ipython3",
   "version": "3.9.13"
  },
  "toc": {
   "base_numbering": 1,
   "nav_menu": {},
   "number_sections": true,
   "sideBar": true,
   "skip_h1_title": false,
   "title_cell": "Table of Contents",
   "title_sidebar": "Contents",
   "toc_cell": false,
   "toc_position": {},
   "toc_section_display": true,
   "toc_window_display": false
  },
  "varInspector": {
   "cols": {
    "lenName": 16,
    "lenType": 16,
    "lenVar": 40
   },
   "kernels_config": {
    "python": {
     "delete_cmd_postfix": "",
     "delete_cmd_prefix": "del ",
     "library": "var_list.py",
     "varRefreshCmd": "print(var_dic_list())"
    },
    "r": {
     "delete_cmd_postfix": ") ",
     "delete_cmd_prefix": "rm(",
     "library": "var_list.r",
     "varRefreshCmd": "cat(var_dic_list()) "
    }
   },
   "types_to_exclude": [
    "module",
    "function",
    "builtin_function_or_method",
    "instance",
    "_Feature"
   ],
   "window_display": false
  }
 },
 "nbformat": 4,
 "nbformat_minor": 1
}
