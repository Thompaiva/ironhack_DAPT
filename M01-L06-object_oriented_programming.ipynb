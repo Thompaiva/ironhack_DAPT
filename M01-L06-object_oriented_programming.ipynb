{
 "cells": [
  {
   "cell_type": "markdown",
   "metadata": {},
   "source": [
    "# Object Oriented Programming "
   ]
  },
  {
   "cell_type": "markdown",
   "metadata": {
    "colab_type": "text",
    "id": "7s_ABg091kzZ"
   },
   "source": [
    "## Creating a class"
   ]
  },
  {
   "cell_type": "markdown",
   "metadata": {
    "colab_type": "text",
    "id": "7oWHt06a1kza"
   },
   "source": [
    "First of all, let's create a simple class!   \n",
    "- Name this class `Car`. ( [PEP8](https://www.python.org/dev/peps/pep-0008/#class-names) suggests using CamelCase for class names )\n",
    "\n",
    "- That should be as simple as possible. The content should be only the `pass` statement.\n",
    "\n",
    "The `pass` statement is used just as a placeholder.   \n",
    "This will be a class that doesn't do anything yet.\n",
    "```python\n",
    "class Car:\n",
    "    pass\n",
    "my_car = Car()\n",
    "```"
   ]
  },
  {
   "cell_type": "code",
   "execution_count": 1,
   "metadata": {
    "colab": {},
    "colab_type": "code",
    "id": "9Vlvqlg_1kzb"
   },
   "outputs": [],
   "source": [
    "# check the output of Car() and my_car\n",
    "class Car:\n",
    "    pass\n",
    "my_car = Car()"
   ]
  },
  {
   "cell_type": "markdown",
   "metadata": {
    "colab_type": "text",
    "id": "jCLcCavN1kzf"
   },
   "source": [
    "## Attributes for a car\n",
    "\n",
    "- Think of 5 attributes that all cars have and their possible values.   \n",
    "- Write down these 5 attributes for later use.  "
   ]
  },
  {
   "cell_type": "code",
   "execution_count": null,
   "metadata": {
    "colab": {},
    "colab_type": "code",
    "id": "n0uXsZtW1kzg"
   },
   "outputs": [],
   "source": [
    "# write the attributes name you've chosen and a comment\n",
    "# portas, cor, marca, modelo, ano"
   ]
  },
  {
   "cell_type": "markdown",
   "metadata": {},
   "source": [
    "# Special method"
   ]
  },
  {
   "cell_type": "markdown",
   "metadata": {
    "colab_type": "text",
    "id": "4avEppmP1kzk"
   },
   "source": [
    "We will create the `__init(self)__` special method.  \n",
    "This is the first thing that will run when you run the `Car()` class.\n",
    "```python\n",
    "class Car(): \n",
    "    def __init__(self):\n",
    "        pass\n",
    "my_car = Car()\n",
    "```   "
   ]
  },
  {
   "cell_type": "code",
   "execution_count": 2,
   "metadata": {},
   "outputs": [],
   "source": [
    "# check the output of Car() class and my_car\n",
    "class Car(): \n",
    "    def __init__(self):\n",
    "        pass"
   ]
  },
  {
   "cell_type": "markdown",
   "metadata": {
    "colab_type": "text",
    "id": "_PSGLYEc1kzv"
   },
   "source": [
    "## The self argument"
   ]
  },
  {
   "cell_type": "markdown",
   "metadata": {
    "colab_type": "text",
    "id": "aUegwH6v1kzv"
   },
   "source": [
    "- Remember, the first argument of the `def __init__(self)` function should always be the `self` keyword.\n",
    "- The `self` argument represents the object itself. That is a way to have access to the objects own attribute."
   ]
  },
  {
   "cell_type": "markdown",
   "metadata": {},
   "source": [
    "## New attributes for  the `Car` class.  \n",
    "- Remember the attributes you wrote down earlier?  \n",
    "- Let's put them as arguments of the `def __init__(self, ...)` function.\n",
    "- Remember: To store that variable in the object you should use the `self` keyword.  \n",
    "Example : \n",
    "```python\n",
    "def __init__(self, name, ...)\n",
    "      self.name = name\n",
    "      ...\n",
    "```"
   ]
  },
  {
   "cell_type": "code",
   "execution_count": 4,
   "metadata": {},
   "outputs": [],
   "source": [
    "# your code here\n",
    "class Car(): \n",
    "    def __init__(self, portas, cor, marca, modelo, ano):\n",
    "        if type(portas) == int:\n",
    "            self.portas = portas\n",
    "        else:\n",
    "            raise TypeError(\"O numero de portas precisa ser um número inteiro\")\n",
    "        self.cor = cor\n",
    "        self.marca = marca\n",
    "        self.modelo = modelo\n",
    "        if type(ano) == int:\n",
    "            self.ano = ano\n",
    "        else:\n",
    "            raise TypeError (\"O ano deve ser um número inteiro\")"
   ]
  },
  {
   "cell_type": "markdown",
   "metadata": {},
   "source": [
    "## Assign the variable `my_car` to the class you created"
   ]
  },
  {
   "cell_type": "code",
   "execution_count": 10,
   "metadata": {},
   "outputs": [],
   "source": [
    "# your code here\n",
    "my_car = Car(4, \"preto\", \"fiat\", \"uno\", 2000)"
   ]
  },
  {
   "cell_type": "markdown",
   "metadata": {
    "colab_type": "text",
    "id": "y5iAyMKy1kz6"
   },
   "source": [
    "## Access the attribute\n",
    "\n",
    "- You can write `my_car.<TAB>` to check what attributes or methods your object contains."
   ]
  },
  {
   "cell_type": "code",
   "execution_count": 11,
   "metadata": {},
   "outputs": [
    {
     "ename": "SyntaxError",
     "evalue": "invalid syntax (894414331.py, line 2)",
     "output_type": "error",
     "traceback": [
      "\u001b[1;36m  File \u001b[1;32m\"C:\\Users\\T-GAMER\\AppData\\Local\\Temp\\ipykernel_10428\\894414331.py\"\u001b[1;36m, line \u001b[1;32m2\u001b[0m\n\u001b[1;33m    my_car.\u001b[0m\n\u001b[1;37m           ^\u001b[0m\n\u001b[1;31mSyntaxError\u001b[0m\u001b[1;31m:\u001b[0m invalid syntax\n"
     ]
    }
   ],
   "source": [
    "# your code here\n",
    "my_car."
   ]
  },
  {
   "cell_type": "markdown",
   "metadata": {},
   "source": [
    "## Inheritance"
   ]
  },
  {
   "cell_type": "markdown",
   "metadata": {},
   "source": [
    "- Create a class called `Uber` that inherits from a `Car`.\n",
    "- It will contains the same attributes and functions of the class, but we will add 2 new attributes that only Ubers cars have.\n",
    "- Create the `category` of the Uber (UberX, Comfort, UberBag, etc) and `one more attribute of your choice`."
   ]
  },
  {
   "cell_type": "code",
   "execution_count": null,
   "metadata": {},
   "outputs": [],
   "source": [
    "#Your code here\n",
    "class Uber(Car):\n",
    "    def __init__(self, portas, cor, marca, modelo, ano, categoria, genero):\n",
    "        super().__init__(portas, cor, marca, modelo, ano)\n",
    "        self.categoria = categoria\n",
    "        self.genero = genero\n",
    "        "
   ]
  },
  {
   "cell_type": "markdown",
   "metadata": {},
   "source": [
    "### Extending the `Car` class.\n",
    "- Create a method for the `Uber` class that calculates the `price of the run`.\n",
    "- Use the distance in `km` and time spent in `minutes`. \n",
    "\n",
    "```python\n",
    "class Uber(Car):\n",
    "    def __init__(self,...)\n",
    "        ...\n",
    "        \n",
    "    def get_price(self, km, time):\n",
    "        ...\n",
    "        return final_price\n",
    "```\n",
    "\n",
    "You can use this table price as reference:\n",
    "```python\n",
    "final_price = (km_factor * km) + (time_factor * time_minutes)\n",
    "```\n",
    "\n",
    "| Category | km_factor | time_factor |\n",
    "| --- | --- | --- |\n",
    "| UberX | 1.00 | 0.50 |\n",
    "| Comfort | 1.20 | 0.60 |"
   ]
  },
  {
   "cell_type": "code",
   "execution_count": 32,
   "metadata": {},
   "outputs": [],
   "source": [
    "#Your code here\n",
    "class Uber(Car):\n",
    "    def __init__(self, portas, cor, marca, modelo, ano, categoria, genero):\n",
    "        super().__init__(portas, cor, marca, modelo, ano)\n",
    "        self.categoria = categoria\n",
    "        self.genero = genero\n",
    "    def get_price(self, km, time):\n",
    "        if self.categoria == \"UberX\":\n",
    "            km_factor = 1\n",
    "            time_factor = 0.50\n",
    "        elif self.categoria == \"Comfort\":\n",
    "            km_factor = 1.20\n",
    "            time_factor = 0.60\n",
    "        else:\n",
    "            raise TypeError(\"Categoria inválida\")\n",
    "        final_price = (km_factor * km) + (time_factor * time)\n",
    "        return final_price\n",
    "    \n",
    "    "
   ]
  },
  {
   "cell_type": "markdown",
   "metadata": {},
   "source": [
    "Now, calculate the price of your `Uber` from:\n",
    "- A `UberX` going from Ironhack to Guarulhos Airport (`30.5km, 1h:20min`)\n",
    "- A `Uber Comfort` going from Ironhack to Guarulhos Airport (`30.5km, 1h:20min`)"
   ]
  },
  {
   "cell_type": "code",
   "execution_count": 36,
   "metadata": {},
   "outputs": [
    {
     "name": "stdout",
     "output_type": "stream",
     "text": [
      "Comfort\n"
     ]
    },
    {
     "data": {
      "text/plain": [
       "84.6"
      ]
     },
     "execution_count": 36,
     "metadata": {},
     "output_type": "execute_result"
    }
   ],
   "source": [
    "#Your code here\n",
    "my_uber = Uber(4, \"amarelo\", \"fiat\", \"uno\", 2000, \"Comfort\", \"Masculino\")\n",
    "print(my_uber.categoria)\n",
    "my_uber.get_price(30.5, 80)\n"
   ]
  },
  {
   "cell_type": "markdown",
   "metadata": {},
   "source": [
    "----------------------------------------------------------"
   ]
  },
  {
   "cell_type": "markdown",
   "metadata": {},
   "source": [
    "# Bonus - Object Oriented Programming "
   ]
  },
  {
   "cell_type": "markdown",
   "metadata": {},
   "source": [
    "## Private Variables"
   ]
  },
  {
   "cell_type": "markdown",
   "metadata": {},
   "source": [
    "When we create a class it is possible set attributes that are privately, therefore that can only be accessed and modified if you declarate this."
   ]
  },
  {
   "cell_type": "markdown",
   "metadata": {},
   "source": [
    "- Now let's practice private attributes on classes.  \n",
    "- Firt of all, assign the class `RegisterPerson` to a variable `person`.\n",
    "You can use the code below:\n",
    "```python\n",
    "class RegisterPerson:\n",
    "    def __init__(self, name):\n",
    "        self.name = name\n",
    "```"
   ]
  },
  {
   "cell_type": "code",
   "execution_count": null,
   "metadata": {},
   "outputs": [],
   "source": [
    "# Your code here"
   ]
  },
  {
   "cell_type": "markdown",
   "metadata": {},
   "source": [
    "- Check the attribute `person.name`"
   ]
  },
  {
   "cell_type": "code",
   "execution_count": null,
   "metadata": {},
   "outputs": [],
   "source": [
    "# Your code here"
   ]
  },
  {
   "cell_type": "markdown",
   "metadata": {},
   "source": [
    "- Since is a private form, we don't want anyone changing or accessing the data inside this form.\n",
    "- You can transform your  attribute to private adding a double underscore. `self.__name`\n",
    "- Check the code below and assign the class `RegisterPerson` to a variable `person2`. Will you be able to access the attribute `person2.name` ?\n",
    "\n",
    "```python\n",
    "class RegisterPerson:\n",
    "    def __init__(self, name):\n",
    "        self.__name = name\n",
    "```"
   ]
  },
  {
   "cell_type": "code",
   "execution_count": null,
   "metadata": {},
   "outputs": [],
   "source": [
    "# Your code here"
   ]
  },
  {
   "cell_type": "markdown",
   "metadata": {},
   "source": [
    "## Property - \"getter\""
   ]
  },
  {
   "cell_type": "markdown",
   "metadata": {},
   "source": [
    "- To access our name attribute, we should use the built-in function `@property`. It is called \"getter\"\n",
    "\n",
    "```python\n",
    "class RegisterPerson:\n",
    "    def __init__(self, name):\n",
    "        self.__name = name\n",
    "  \n",
    "    @property\n",
    "    def name(self):\n",
    "        return self.__name \n",
    "    \n",
    "person3 = RegisterPerson('Marcus')\n",
    "person3.name    \n",
    "    \n",
    "```"
   ]
  },
  {
   "cell_type": "markdown",
   "metadata": {},
   "source": [
    "- Test the code above. Are you able the get the name?"
   ]
  },
  {
   "cell_type": "code",
   "execution_count": null,
   "metadata": {},
   "outputs": [],
   "source": [
    "# Your code here"
   ]
  },
  {
   "cell_type": "markdown",
   "metadata": {},
   "source": [
    "## Setter"
   ]
  },
  {
   "cell_type": "markdown",
   "metadata": {},
   "source": [
    "- We also have the setter method. It is used for changing the attribute.\n",
    "- Run the code below:\n",
    "\n",
    "```python\n",
    "class RegisterPerson:\n",
    "    def __init__(self, name):\n",
    "        self.__name = name\n",
    "  \n",
    "    @property\n",
    "    def name(self):\n",
    "        return self.__name\n",
    "    \n",
    "    @name.setter\n",
    "    def name(self, value):\n",
    "        self.__name = value\n",
    "\n",
    "person4 = RegisterPerson('Marcus')\n",
    "person4.name = 'Marcus Silva'\n",
    "person4.name\n",
    "        \n",
    "```"
   ]
  },
  {
   "cell_type": "code",
   "execution_count": null,
   "metadata": {},
   "outputs": [],
   "source": [
    "# Your code here"
   ]
  },
  {
   "cell_type": "markdown",
   "metadata": {},
   "source": [
    "Now it is time to practice. \n",
    "- Try to add the `user_id`, `address` and `phone` attributes to your `RegisterPerson` class. \n",
    "- Make this attributes privates and create the `getters` and `setters` for them.\n",
    "- Create a function inside the class that return a form with the person data."
   ]
  },
  {
   "cell_type": "code",
   "execution_count": null,
   "metadata": {},
   "outputs": [],
   "source": [
    "# Your code here"
   ]
  }
 ],
 "metadata": {
  "colab": {
   "collapsed_sections": [],
   "name": "challenge-01.ipynb",
   "provenance": []
  },
  "kernelspec": {
   "display_name": "Python 3 (ipykernel)",
   "language": "python",
   "name": "python3"
  },
  "language_info": {
   "codemirror_mode": {
    "name": "ipython",
    "version": 3
   },
   "file_extension": ".py",
   "mimetype": "text/x-python",
   "name": "python",
   "nbconvert_exporter": "python",
   "pygments_lexer": "ipython3",
   "version": "3.9.13"
  },
  "toc": {
   "base_numbering": 1,
   "nav_menu": {},
   "number_sections": true,
   "sideBar": true,
   "skip_h1_title": false,
   "title_cell": "Table of Contents",
   "title_sidebar": "Contents",
   "toc_cell": false,
   "toc_position": {},
   "toc_section_display": true,
   "toc_window_display": false
  }
 },
 "nbformat": 4,
 "nbformat_minor": 1
}
