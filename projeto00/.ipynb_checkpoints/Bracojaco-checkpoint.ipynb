{
 "cells": [
  {
   "cell_type": "code",
   "execution_count": 39,
   "id": "76054fc1",
   "metadata": {},
   "outputs": [],
   "source": [
    "import numpy as np\n",
    "import math\n",
    "import random\n",
    "from IPython.display import display, clear_output"
   ]
  },
  {
   "cell_type": "code",
   "execution_count": 40,
   "id": "05d58366",
   "metadata": {},
   "outputs": [
    {
     "data": {
      "text/plain": [
       "52"
      ]
     },
     "execution_count": 40,
     "metadata": {},
     "output_type": "execute_result"
    }
   ],
   "source": [
    "suits = ['d', 's', 'h', 'c']\n",
    "cards = ['A', '2', '3', '4', '5', '6', '7', '8', '9', '10', 'J', 'Q', 'K']\n",
    "card_values = {'A':11, '2':2, '3':3, '4':4, '5':5, '6':6, '7':7, '8':8, '9':9, '10':10, 'J':10, 'Q':10, 'K':10}\n",
    "deck = [card+suit for suit in suits for card in cards]\n",
    "len(deck)"
   ]
  },
  {
   "cell_type": "code",
   "execution_count": 41,
   "id": "3d6866d2",
   "metadata": {},
   "outputs": [],
   "source": [
    "def update_deck(deck, cards_to_remove):\n",
    "    for card in cards_to_remove:\n",
    "        deck.remove(card)"
   ]
  },
  {
   "cell_type": "code",
   "execution_count": 42,
   "id": "0daed646",
   "metadata": {},
   "outputs": [],
   "source": [
    "def update_hand(hand, card_to_add):\n",
    "    updated_hand = hand + card_to_add\n",
    "    return updated_hand"
   ]
  },
  {
   "cell_type": "code",
   "execution_count": 43,
   "id": "8766b8b7",
   "metadata": {},
   "outputs": [],
   "source": [
    "def deal_hands(deck):\n",
    "    hands = random.sample(deck, 4)\n",
    "    update_deck(deck, hands)\n",
    "    return hands[:2], hands[2:]"
   ]
  },
  {
   "cell_type": "code",
   "execution_count": 44,
   "id": "0844ee80",
   "metadata": {},
   "outputs": [],
   "source": [
    "def hit(deck, hand):\n",
    "    dealt_card = random.sample(deck, 1)\n",
    "    update_deck(deck, list(dealt_card))\n",
    "    updated_hand = update_hand(hand, dealt_card)\n",
    "    return updated_hand"
   ]
  },
  {
   "cell_type": "code",
   "execution_count": 45,
   "id": "900c9f2a",
   "metadata": {},
   "outputs": [],
   "source": [
    "def define_hand_score(hand):\n",
    "    flat_hand_str = [i[:-1] for i in hand if i[-1] in suits]    # Remove o Naipe da Lista \"mão\"\n",
    "    flat_hand_int = [card_values[i] for i in flat_hand_str]     # Pega o valor de cada carta no dicionário\n",
    "    hand_score = sum(flat_hand_int)                             # Faz a soma do valor das cartas na mão\n",
    "    \n",
    "    # SE HAND=BUST, Transformar A de 11 para 1    \n",
    "    \n",
    "    if hand_score > 21 and 'A' in flat_hand_str:                # Se score > 21 e mão possui um ás...\n",
    "        card_values['A'] = 1                                    # Agora o ás vale 1 no dicionário\n",
    "        flat_hand_int = [card_values[i] for i in flat_hand_str] # Executamos de novo a contagem de pontuação\n",
    "        hand_score = sum(flat_hand_int)                         # E a soma\n",
    "        card_values['A'] = 11                                   # Por fim, resetamos o valor do ás no dicionario.\n",
    "    \n",
    "    # SE HAND=BUST, perdeu\n",
    "    \n",
    "    if hand_score > 21:\n",
    "        pass\n",
    "    \n",
    "    return(hand_score)"
   ]
  },
  {
   "cell_type": "code",
   "execution_count": 46,
   "id": "f2397814",
   "metadata": {},
   "outputs": [],
   "source": [
    "def player_game_results(updated_player_hand, dealer_hand):\n",
    "    player_score = define_hand_score(updated_player_hand)\n",
    "    print(f\">>>>> A sua mão é {updated_player_hand}\")\n",
    "    print(f\">>>>> A sua pontuação é {player_score}\")\n",
    "    print(\"\\n\")\n",
    "    if player_score < 21:\n",
    "        pass\n",
    "    elif player_score == 21:\n",
    "        print(\">> BLACKJACK!!\")\n",
    "        dealer(dealer_hand, updated_player_hand)\n",
    "    else:\n",
    "        print(\">> BUST!\")\n",
    "        clear_output(wait=True)\n",
    "        input('Pressione qualquer tecla para iniciar outra rodada')\n",
    "        main()"
   ]
  },
  {
   "cell_type": "code",
   "execution_count": null,
   "id": "706df1b4",
   "metadata": {},
   "outputs": [],
   "source": [
    "def dealer(dealer_hand, final_player_hand):\n",
    "    print()\n",
    "    updated_dealer_hand = dealer_hand\n",
    "    print(f\"A mão do dealer é {updated_dealer_hand}\")\n",
    "    dealer_score = define_hand_score(updated_dealer_hand)\n",
    "    player_final_score = define_hand_score(final_player_hand)\n",
    "    print(f\"A pontuação do dealer é {dealer_score}\")\n",
    "    print(\"\\n\")\n",
    "    print(f\"A sua pontuação final foi de {player_final_score}\")\n",
    "        \n",
    "    while dealer_score < player_final_score:\n",
    "        print(\"O dealer pede hit!\")\n",
    "        updated_dealer_hand = hit(deck, updated_dealer_hand)\n",
    "        dealer_score = define_hand_score(updated_dealer_hand)\n",
    "        print(f\"A mão do dealer é {updated_dealer_hand}\")\n",
    "        print(f\"A pontuação do dealer é {dealer_score}\")\n",
    "        print(\"\\n\")\n",
    "        print(f\"A sua pontuação final foi de {player_final_score}\")\n",
    "    \n",
    "    # SAÍDA DO LOOP\n",
    "    \n",
    "    if dealer_score == player_final_score:\n",
    "        print(\"Empate!\")\n",
    "        clear_output(wait=True)\n",
    "        input('Pressione qualquer tecla para iniciar outra rodada')\n",
    "        main()\n",
    "    \n",
    "    elif dealer_score > player_final_score and dealer_score <= 21:\n",
    "        print(\"O Dealer venceu!\")\n",
    "        clear_output(wait=True)\n",
    "        input('Pressione qualquer tecla para iniciar outra rodada')\n",
    "        main()\n",
    "    \n",
    "    else:\n",
    "        print(\"O Dealer bustou! VOCÊ VENCEU!\")\n",
    "        clear_output(wait=True)\n",
    "        input('Pressione qualquer tecla para iniciar outra rodada')\n",
    "        main()      "
   ]
  },
  {
   "cell_type": "code",
   "execution_count": 48,
   "id": "a4118859",
   "metadata": {},
   "outputs": [],
   "source": [
    "def main():\n",
    "    print(\"\\n\")\n",
    "    print(\"==============================\")\n",
    "    print(\"Olá, bem-vindo ao Blackjack!\")\n",
    "    print(\"==============================\")\n",
    "    print(\"\\n\")\n",
    "    deck = [card+suit for suit in suits for card in cards]  # Formar o baralho\n",
    "    player_hand, dealer_hand = deal_hands(deck)             # Distribuir as mãos iniciais\n",
    "    player_score = define_hand_score(player_hand)\n",
    "    print(f\"A sua mão é {player_hand}\")\n",
    "    print(f\"A sua pontuação é {player_score}\")\n",
    "    print(\"\\n\")\n",
    "    print(f\"A mão do dealer é {dealer_hand[0]}\")\n",
    "    print(\"\\n\")\n",
    "    player_input = 'y'\n",
    "    updated_player_hand = player_hand\n",
    "    \n",
    "    while player_input == 'y':\n",
    "        player_input = input(\"Digite 'y' para pedir uma nova carta ou 'n' para parar\\n\")\n",
    "        if player_input != 'y' and player_input != 'n':\n",
    "            raise TypeError(\"Por favor, digite apenas 'y' para uma nova carta ou 'n' para parar\\n\")\n",
    "        elif player_input == 'y':\n",
    "            updated_player_hand = hit(deck, updated_player_hand)\n",
    "            player_game_results(updated_player_hand, dealer_hand)\n",
    "        else:\n",
    "            final_player_hand = updated_player_hand\n",
    "            dealer(dealer_hand, final_player_hand)"
   ]
  },
  {
   "cell_type": "code",
   "execution_count": null,
   "id": "5de6a0d4",
   "metadata": {
    "scrolled": true
   },
   "outputs": [
    {
     "name": "stdout",
     "output_type": "stream",
     "text": [
      "Pressione qualquer tecla para iniciar outra rodadaa\n",
      "\n",
      "\n",
      "==============================\n",
      "Olá, bem-vindo ao Blackjack!\n",
      "==============================\n",
      "\n",
      "\n",
      "A sua mão é ['6d', '10c']\n",
      "A sua pontuação é 16\n",
      "\n",
      "\n",
      "A mão do dealer é 4s\n",
      "\n",
      "\n",
      "Digite 'y' para pedir uma nova carta ou 'n' para parar\n",
      "y\n",
      ">>>>> A sua mão é ['6d', '10c', '2d']\n",
      ">>>>> A sua pontuação é 18\n",
      "\n",
      "\n",
      "Digite 'y' para pedir uma nova carta ou 'n' para parar\n",
      "n\n",
      "\n",
      "A mão do dealer é ['4s', '10s']\n",
      "A pontuação do dealer é 14\n",
      "\n",
      "\n",
      "A sua pontuação final foi de 18\n",
      "O dealer pede hit!\n",
      "A mão do dealer é ['4s', '10s', 'Ac']\n",
      "A pontuação do dealer é 15\n",
      "\n",
      "\n",
      "A sua pontuação final foi de 18\n",
      "O dealer pede hit!\n",
      "A mão do dealer é ['4s', '10s', 'Ac', '9h']\n",
      "A pontuação do dealer é 24\n",
      "\n",
      "\n",
      "A sua pontuação final foi de 18\n",
      "O Dealer bustou! Você venceu!\n"
     ]
    }
   ],
   "source": [
    "main()"
   ]
  },
  {
   "cell_type": "code",
   "execution_count": null,
   "id": "ebc7985f",
   "metadata": {},
   "outputs": [],
   "source": []
  },
  {
   "cell_type": "code",
   "execution_count": null,
   "id": "4910bd02",
   "metadata": {},
   "outputs": [],
   "source": []
  }
 ],
 "metadata": {
  "kernelspec": {
   "display_name": "Python 3 (ipykernel)",
   "language": "python",
   "name": "python3"
  },
  "language_info": {
   "codemirror_mode": {
    "name": "ipython",
    "version": 3
   },
   "file_extension": ".py",
   "mimetype": "text/x-python",
   "name": "python",
   "nbconvert_exporter": "python",
   "pygments_lexer": "ipython3",
   "version": "3.9.13"
  }
 },
 "nbformat": 4,
 "nbformat_minor": 5
}
