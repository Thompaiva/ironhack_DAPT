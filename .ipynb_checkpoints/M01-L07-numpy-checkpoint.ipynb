{
 "cells": [
  {
   "cell_type": "markdown",
   "metadata": {
    "colab_type": "text",
    "id": "mN9kpE7hMEP-"
   },
   "source": [
    "![Ironhack logo](https://i.imgur.com/1QgrNNw.png)\n",
    "\n",
    "# Lab | Numpy\n",
    "\n",
    "## Introduction\n",
    "\n",
    "An important ability of a data scientist/data engineer is to know where and how to find information that helps you to accomplish your work. In the exercise, you will both practice the Numpy features we discussed in the lesson and learn new features by looking up documentations and references.\n",
    "\n",
    "## Getting Started\n",
    "There are a bunch of comments which instruct what you are supposed to do step by step. Follow the order of the instructions from top to bottom. Read each instruction carefully and provide your answer beneath it. You should also test your answers to make sure your responses are correct. If one of your responses is incorrect, you may not be able to proceed because later responses may depend upon previous responses.\n",
    "\n",
    "\n",
    "## Resources\n",
    "\n",
    "Some of the questions in the assignment are not covered in our lesson. You will learn how to efficiently look up the information on your own. Below are some resources you can find the information you need.\n",
    "\n",
    "[Numpy User Guide](https://docs.scipy.org/doc/numpy/user/index.html)\n",
    "\n",
    "[Numpy Reference](https://docs.scipy.org/doc/numpy/reference/)\n",
    "\n",
    "[Google Search](https://www.google.com/search?q=how+to+use+numpy)\n",
    "\n"
   ]
  },
  {
   "cell_type": "markdown",
   "metadata": {
    "colab_type": "text",
    "id": "-we_8UVrwCc1"
   },
   "source": [
    "# Intrduction to NumPy\n",
    "\n",
    "\n",
    "#### 1. Import NumPy under the name np."
   ]
  },
  {
   "cell_type": "code",
   "execution_count": 1,
   "metadata": {
    "colab": {},
    "colab_type": "code",
    "id": "3fRJ8mtHwCc5"
   },
   "outputs": [],
   "source": [
    "# your code here\n",
    "import numpy as np"
   ]
  },
  {
   "cell_type": "markdown",
   "metadata": {
    "colab_type": "text",
    "id": "8Xtbl_EvwCc9"
   },
   "source": [
    "#### 2. Print your NumPy version."
   ]
  },
  {
   "cell_type": "code",
   "execution_count": 2,
   "metadata": {
    "colab": {},
    "colab_type": "code",
    "id": "BlegxuJVwCc-"
   },
   "outputs": [
    {
     "data": {
      "text/plain": [
       "'1.21.5'"
      ]
     },
     "execution_count": 2,
     "metadata": {},
     "output_type": "execute_result"
    }
   ],
   "source": [
    "# your code here\n",
    "np.__version__"
   ]
  },
  {
   "cell_type": "markdown",
   "metadata": {
    "colab_type": "text",
    "id": "FpKgyatowCdC"
   },
   "source": [
    "#### 3. Generate a 3x2x5 3-dimensional array with random values. Assign the array to variable *a*.\n",
    "\n",
    "**Example of output**:\n",
    "````python\n",
    "[[[0.29932768, 0.85812686, 0.75266145, 0.09278988, 0.78358352],\n",
    "  [0.13437453, 0.65695946, 0.82047594, 0.09764179, 0.52230096]],\n",
    " \n",
    " [[0.54248247, 0.06431281, 0.65902257, 0.92736679, 0.3302839 ],\n",
    "  [0.86867236, 0.33960592, 0.62295821, 0.74563567, 0.24351584]],\n",
    " \n",
    " [[0.21276812, 0.06917533, 0.35106591, 0.82273425, 0.7910178 ],\n",
    "  [0.37768961, 0.56107736, 0.99965953, 0.97615549, 0.2445537 ]]]\n",
    "````"
   ]
  },
  {
   "cell_type": "code",
   "execution_count": 6,
   "metadata": {
    "colab": {},
    "colab_type": "code",
    "id": "xILn36GWwCdK"
   },
   "outputs": [],
   "source": [
    "# your code here\n",
    "a = np.random.random([3, 2, 5])\n"
   ]
  },
  {
   "cell_type": "markdown",
   "metadata": {
    "colab_type": "text",
    "id": "aMHxBSCDwCdP"
   },
   "source": [
    "#### 4. Print *a*.\n"
   ]
  },
  {
   "cell_type": "code",
   "execution_count": 5,
   "metadata": {
    "colab": {},
    "colab_type": "code",
    "id": "N_NYL3pHwCdQ"
   },
   "outputs": [
    {
     "name": "stdout",
     "output_type": "stream",
     "text": [
      "[[[0.67196422 0.79577837 0.16773962 0.41140789 0.22096878]\n",
      "  [0.31325483 0.10452357 0.616209   0.1649677  0.2537495 ]]\n",
      "\n",
      " [[0.78734878 0.28989559 0.08041963 0.46036896 0.71795017]\n",
      "  [0.5251246  0.54972194 0.90851574 0.18116316 0.45097832]]\n",
      "\n",
      " [[0.29363613 0.31323637 0.86994288 0.7709072  0.10291908]\n",
      "  [0.77676073 0.38200214 0.41225806 0.04371341 0.16955321]]]\n"
     ]
    }
   ],
   "source": [
    "# your code here\n",
    "print(a)"
   ]
  },
  {
   "cell_type": "markdown",
   "metadata": {
    "colab_type": "text",
    "id": "kws-mAPSwCdU"
   },
   "source": [
    "#### 5. Create a 5x2x3 3-dimensional array with all values equaling 1. Assign the array to variable *b*."
   ]
  },
  {
   "cell_type": "markdown",
   "metadata": {
    "colab_type": "text",
    "id": "SMAUJKLwJS-8"
   },
   "source": [
    "Expected output:\n",
    "\n",
    "````python\n",
    "      [[[1, 1, 1],\n",
    "        [1, 1, 1]],\n",
    "\n",
    "       [[1, 1, 1],\n",
    "        [1, 1, 1]],\n",
    "\n",
    "       [[1, 1, 1],\n",
    "        [1, 1, 1]],\n",
    "\n",
    "       [[1, 1, 1],\n",
    "        [1, 1, 1]],\n",
    "\n",
    "       [[1, 1, 1],\n",
    "        [1, 1, 1]]]\n",
    "````"
   ]
  },
  {
   "cell_type": "code",
   "execution_count": 7,
   "metadata": {
    "colab": {},
    "colab_type": "code",
    "id": "anCmbtrtwCdW"
   },
   "outputs": [],
   "source": [
    "# your code here\n",
    "b = np.ones([5, 2, 3])"
   ]
  },
  {
   "cell_type": "markdown",
   "metadata": {
    "colab_type": "text",
    "id": "FsYdwPxPwCdZ"
   },
   "source": [
    "#### 6. Print *b*.\n"
   ]
  },
  {
   "cell_type": "code",
   "execution_count": 8,
   "metadata": {
    "colab": {},
    "colab_type": "code",
    "id": "Y3rcPurpwCda"
   },
   "outputs": [
    {
     "name": "stdout",
     "output_type": "stream",
     "text": [
      "[[[1. 1. 1.]\n",
      "  [1. 1. 1.]]\n",
      "\n",
      " [[1. 1. 1.]\n",
      "  [1. 1. 1.]]\n",
      "\n",
      " [[1. 1. 1.]\n",
      "  [1. 1. 1.]]\n",
      "\n",
      " [[1. 1. 1.]\n",
      "  [1. 1. 1.]]\n",
      "\n",
      " [[1. 1. 1.]\n",
      "  [1. 1. 1.]]]\n"
     ]
    }
   ],
   "source": [
    "# your code here\n",
    "print(b)"
   ]
  },
  {
   "cell_type": "markdown",
   "metadata": {
    "colab_type": "text",
    "id": "hGblsnk5wCde"
   },
   "source": [
    "#### 7. Do *a* and *b* have the same size? How do you prove that in Python code?"
   ]
  },
  {
   "cell_type": "code",
   "execution_count": 16,
   "metadata": {
    "colab": {},
    "colab_type": "code",
    "id": "YmKeIpGWwCdf"
   },
   "outputs": [
    {
     "name": "stdout",
     "output_type": "stream",
     "text": [
      "(3, 2, 5)\n",
      "30\n"
     ]
    },
    {
     "data": {
      "text/plain": [
       "True"
      ]
     },
     "execution_count": 16,
     "metadata": {},
     "output_type": "execute_result"
    }
   ],
   "source": [
    "# your code here\n",
    "\n",
    "\n",
    "a.size == b.size\n",
    "\n"
   ]
  },
  {
   "cell_type": "markdown",
   "metadata": {
    "colab_type": "text",
    "id": "o9UzXk9IwCdi"
   },
   "source": [
    "#### 8. Are you able to add *a* and *b*? Why or why not?\n"
   ]
  },
  {
   "cell_type": "code",
   "execution_count": 21,
   "metadata": {
    "colab": {},
    "colab_type": "code",
    "id": "drdAyKPywCdj"
   },
   "outputs": [
    {
     "data": {
      "text/plain": [
       "False"
      ]
     },
     "execution_count": 21,
     "metadata": {},
     "output_type": "execute_result"
    }
   ],
   "source": [
    "# your answer here\n",
    "a.shape == b.shape\n",
    "# não da para somar matrizes de formatos diferentes"
   ]
  },
  {
   "cell_type": "markdown",
   "metadata": {
    "colab_type": "text",
    "id": "DTsSOpvYwCdm"
   },
   "source": [
    "#### 9. Reshape *b* so that it has the same structure of *a* (i.e. become a 3x2x5 array). Assign the reshaped array to variable *c*.\n",
    "*Hint: The tranpose of 5x2x3 is 3x2x5*\n",
    "\n",
    "Expected output:\n",
    "\n",
    "````python\n",
    "      [[[1, 1, 1, 1, 1],\n",
    "        [1, 1, 1, 1, 1]],\n",
    "\n",
    "       [[1, 1, 1, 1, 1],\n",
    "        [1, 1, 1, 1, 1]],\n",
    "\n",
    "       [[1, 1, 1, 1, 1],\n",
    "        [1, 1, 1, 1, 1]]]\n",
    "````"
   ]
  },
  {
   "cell_type": "code",
   "execution_count": 28,
   "metadata": {
    "colab": {},
    "colab_type": "code",
    "id": "DjLlRJUtwCdn"
   },
   "outputs": [
    {
     "data": {
      "text/plain": [
       "True"
      ]
     },
     "execution_count": 28,
     "metadata": {},
     "output_type": "execute_result"
    }
   ],
   "source": [
    "# your code here\n",
    "c = b.reshape(np.transpose(b).shape)\n",
    "a.shape == c.shape"
   ]
  },
  {
   "cell_type": "markdown",
   "metadata": {
    "colab_type": "text",
    "id": "fvHocQ9EwCdq"
   },
   "source": [
    "#### 10. Try to add *a* and *c*. Now it should work. Assign the sum to variable *d*. But why does it work now?"
   ]
  },
  {
   "cell_type": "code",
   "execution_count": 33,
   "metadata": {
    "colab": {},
    "colab_type": "code",
    "id": "Ohf5yh5ZwCdr"
   },
   "outputs": [
    {
     "name": "stdout",
     "output_type": "stream",
     "text": [
      "[[[0.61878121 0.3858763  0.64680612 0.61082714 0.95921012]\n",
      "  [0.73249524 0.34148942 0.87920725 0.72676552 0.29371477]]\n",
      "\n",
      " [[0.09278259 0.03145727 0.48735343 0.31704766 0.17690664]\n",
      "  [0.7064906  0.46921542 0.69305422 0.29021473 0.66664019]]\n",
      "\n",
      " [[0.88346489 0.30734991 0.72868559 0.76737744 0.93474929]\n",
      "  [0.63984381 0.42802457 0.27573217 0.94618628 0.95132713]]]\n",
      "[[[1. 1. 1. 1. 1.]\n",
      "  [1. 1. 1. 1. 1.]]\n",
      "\n",
      " [[1. 1. 1. 1. 1.]\n",
      "  [1. 1. 1. 1. 1.]]\n",
      "\n",
      " [[1. 1. 1. 1. 1.]\n",
      "  [1. 1. 1. 1. 1.]]]\n",
      "[[[1.61878121 1.3858763  1.64680612 1.61082714 1.95921012]\n",
      "  [1.73249524 1.34148942 1.87920725 1.72676552 1.29371477]]\n",
      "\n",
      " [[1.09278259 1.03145727 1.48735343 1.31704766 1.17690664]\n",
      "  [1.7064906  1.46921542 1.69305422 1.29021473 1.66664019]]\n",
      "\n",
      " [[1.88346489 1.30734991 1.72868559 1.76737744 1.93474929]\n",
      "  [1.63984381 1.42802457 1.27573217 1.94618628 1.95132713]]]\n"
     ]
    }
   ],
   "source": [
    "# your code/answer here\n",
    "d = a + c\n",
    "print(a)\n",
    "print(c)\n",
    "print(d)\n",
    "# porq tem o mesmo tamanho e formato"
   ]
  },
  {
   "cell_type": "markdown",
   "metadata": {
    "colab_type": "text",
    "id": "DuQBMzQBwCdw"
   },
   "source": [
    "#### 11. Print *a* and *d*. Notice the difference and relation of the two array in terms of the values? Explain."
   ]
  },
  {
   "cell_type": "code",
   "execution_count": 35,
   "metadata": {
    "colab": {},
    "colab_type": "code",
    "id": "gEuh7iv1wCdx"
   },
   "outputs": [
    {
     "name": "stdout",
     "output_type": "stream",
     "text": [
      "[[[0.61878121 0.3858763  0.64680612 0.61082714 0.95921012]\n",
      "  [0.73249524 0.34148942 0.87920725 0.72676552 0.29371477]]\n",
      "\n",
      " [[0.09278259 0.03145727 0.48735343 0.31704766 0.17690664]\n",
      "  [0.7064906  0.46921542 0.69305422 0.29021473 0.66664019]]\n",
      "\n",
      " [[0.88346489 0.30734991 0.72868559 0.76737744 0.93474929]\n",
      "  [0.63984381 0.42802457 0.27573217 0.94618628 0.95132713]]]\n",
      "[[[1.61878121 1.3858763  1.64680612 1.61082714 1.95921012]\n",
      "  [1.73249524 1.34148942 1.87920725 1.72676552 1.29371477]]\n",
      "\n",
      " [[1.09278259 1.03145727 1.48735343 1.31704766 1.17690664]\n",
      "  [1.7064906  1.46921542 1.69305422 1.29021473 1.66664019]]\n",
      "\n",
      " [[1.88346489 1.30734991 1.72868559 1.76737744 1.93474929]\n",
      "  [1.63984381 1.42802457 1.27573217 1.94618628 1.95132713]]]\n"
     ]
    }
   ],
   "source": [
    "# your code/answer here\n",
    "print(a)\n",
    "\n",
    "print(d)\n",
    "#a diferença deles é o b transposto (c)"
   ]
  },
  {
   "cell_type": "markdown",
   "metadata": {
    "colab_type": "text",
    "id": "Ka1popJ3wCd0"
   },
   "source": [
    "#### 12. Multiply *a* and *c*. Assign the result to *e*."
   ]
  },
  {
   "cell_type": "code",
   "execution_count": 36,
   "metadata": {
    "colab": {},
    "colab_type": "code",
    "id": "hLeCMiSEwCd1"
   },
   "outputs": [
    {
     "name": "stdout",
     "output_type": "stream",
     "text": [
      "[[[0.61878121 0.3858763  0.64680612 0.61082714 0.95921012]\n",
      "  [0.73249524 0.34148942 0.87920725 0.72676552 0.29371477]]\n",
      "\n",
      " [[0.09278259 0.03145727 0.48735343 0.31704766 0.17690664]\n",
      "  [0.7064906  0.46921542 0.69305422 0.29021473 0.66664019]]\n",
      "\n",
      " [[0.88346489 0.30734991 0.72868559 0.76737744 0.93474929]\n",
      "  [0.63984381 0.42802457 0.27573217 0.94618628 0.95132713]]]\n"
     ]
    }
   ],
   "source": [
    "# your code here\n",
    "e = a*c\n",
    "print(e)"
   ]
  },
  {
   "cell_type": "markdown",
   "metadata": {
    "colab_type": "text",
    "id": "1QCqP6lMwCd5"
   },
   "source": [
    "#### 13. Does *e* equal to *a*? Why or why not?\n"
   ]
  },
  {
   "cell_type": "code",
   "execution_count": 37,
   "metadata": {
    "colab": {},
    "colab_type": "code",
    "id": "oxoat0cbwCd6"
   },
   "outputs": [
    {
     "data": {
      "text/plain": [
       "array([[[ True,  True,  True,  True,  True],\n",
       "        [ True,  True,  True,  True,  True]],\n",
       "\n",
       "       [[ True,  True,  True,  True,  True],\n",
       "        [ True,  True,  True,  True,  True]],\n",
       "\n",
       "       [[ True,  True,  True,  True,  True],\n",
       "        [ True,  True,  True,  True,  True]]])"
      ]
     },
     "execution_count": 37,
     "metadata": {},
     "output_type": "execute_result"
    }
   ],
   "source": [
    "# your code/answer here\n",
    "e == a\n",
    "#são iguais pois para cada elemento de E, o elemento de mesmo indice em A tem o mesmo valor, visto q a multiplicação foi por 1"
   ]
  },
  {
   "cell_type": "markdown",
   "metadata": {
    "colab_type": "text",
    "id": "b7ceZMcswCd9"
   },
   "source": [
    "#### 14. Identify the max, min, and mean values in *d*. Assign those values to variables *d_max*, *d_min* and *d_mean*."
   ]
  },
  {
   "cell_type": "code",
   "execution_count": 43,
   "metadata": {
    "colab": {},
    "colab_type": "code",
    "id": "ljd7J4ucwCd-"
   },
   "outputs": [
    {
     "name": "stdout",
     "output_type": "stream",
     "text": [
      "1.9592101176070318\n",
      "1.031457272822194\n",
      "1.56630256269348\n",
      "[[[1.61878121 1.3858763  1.64680612 1.61082714 1.95921012]\n",
      "  [1.73249524 1.34148942 1.87920725 1.72676552 1.29371477]]\n",
      "\n",
      " [[1.09278259 1.03145727 1.48735343 1.31704766 1.17690664]\n",
      "  [1.7064906  1.46921542 1.69305422 1.29021473 1.66664019]]\n",
      "\n",
      " [[1.88346489 1.30734991 1.72868559 1.76737744 1.93474929]\n",
      "  [1.63984381 1.42802457 1.27573217 1.94618628 1.95132713]]]\n"
     ]
    }
   ],
   "source": [
    "# your code here\n",
    "d_max = np.max(d)\n",
    "print(d_max)\n",
    "d_min = np.min(d)\n",
    "print(d_min)\n",
    "d_mean = np.mean(d)\n",
    "print(d_mean)\n",
    "print(d)"
   ]
  }
 ],
 "metadata": {
  "colab": {
   "collapsed_sections": [],
   "name": "main.ipynb",
   "provenance": []
  },
  "kernelspec": {
   "display_name": "Python 3 (ipykernel)",
   "language": "python",
   "name": "python3"
  },
  "language_info": {
   "codemirror_mode": {
    "name": "ipython",
    "version": 3
   },
   "file_extension": ".py",
   "mimetype": "text/x-python",
   "name": "python",
   "nbconvert_exporter": "python",
   "pygments_lexer": "ipython3",
   "version": "3.9.13"
  },
  "toc": {
   "base_numbering": 1,
   "nav_menu": {},
   "number_sections": true,
   "sideBar": true,
   "skip_h1_title": false,
   "title_cell": "Table of Contents",
   "title_sidebar": "Contents",
   "toc_cell": false,
   "toc_position": {},
   "toc_section_display": true,
   "toc_window_display": false
  },
  "varInspector": {
   "cols": {
    "lenName": 16,
    "lenType": 16,
    "lenVar": 40
   },
   "kernels_config": {
    "python": {
     "delete_cmd_postfix": "",
     "delete_cmd_prefix": "del ",
     "library": "var_list.py",
     "varRefreshCmd": "print(var_dic_list())"
    },
    "r": {
     "delete_cmd_postfix": ") ",
     "delete_cmd_prefix": "rm(",
     "library": "var_list.r",
     "varRefreshCmd": "cat(var_dic_list()) "
    }
   },
   "types_to_exclude": [
    "module",
    "function",
    "builtin_function_or_method",
    "instance",
    "_Feature"
   ],
   "window_display": false
  }
 },
 "nbformat": 4,
 "nbformat_minor": 2
}
