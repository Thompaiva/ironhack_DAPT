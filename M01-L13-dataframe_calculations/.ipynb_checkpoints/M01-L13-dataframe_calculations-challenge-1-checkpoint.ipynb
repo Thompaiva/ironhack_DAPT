{
 "cells": [
  {
   "cell_type": "markdown",
   "metadata": {
    "colab_type": "text",
    "id": "0MTRmLX08SMU"
   },
   "source": [
    "# Lab | Dataframe calculation\n",
    "\n",
    "## Introduction\n",
    "\n",
    "We have learned the basics of dataframe calculation, aggregation, and summarization. In this lab you will practice the functions covered in the lessons and learn more advanced ones by solving a series of challenges.\n",
    "\n",
    "In this lab we also want you to focus on refining your problem-solving process in addition to completing the challenges. Data analysis is an iterative problem-solving process. You will need to break down a complex problem into a subset of less complex problems, then tackle each sub problems in a progressive order. You may need to further break down the sub problems into sub-sub problems and so on so forth depending on the complexity of those problems. You will keep breaking down the problems until you are able to solve each of them.\n",
    "\n",
    "During the problem-solving process, you are required to constantly test your solutions and reflect on your goals and problem-solving strategies. You may be required to revise the problem-solving strategies and sometimes redefine the problem subsets based on your latest discoveries.\n",
    "\n",
    "\n",
    "## Resources\n",
    "\n",
    "[Pokemon with Stats](https://www.kaggle.com/abcsds/pokemon)\n"
   ]
  },
  {
   "cell_type": "markdown",
   "metadata": {
    "colab_type": "text",
    "id": "YprRZ7IW8LX7"
   },
   "source": [
    "# Challenge 1\n",
    "\n",
    "In this challenge you will be working on **Pokemon**. You will answer a series of questions in order to practice dataframe calculation, aggregation, and transformation.\n",
    "\n",
    "![Pokemon](images/pokemon.jpg)\n",
    "\n",
    "Follow the instructions below and enter your code."
   ]
  },
  {
   "cell_type": "markdown",
   "metadata": {},
   "source": [
    "#### Import pandas, numpy and other libraries that you may use."
   ]
  },
  {
   "cell_type": "code",
   "execution_count": 1,
   "metadata": {},
   "outputs": [],
   "source": [
    "# Your code here\n",
    "import numpy as np\n",
    "import pandas as pd\n",
    "import re"
   ]
  },
  {
   "cell_type": "markdown",
   "metadata": {
    "colab_type": "text",
    "id": "AYtKdUYG8LYK"
   },
   "source": [
    "#### Import dataset\n",
    "\n",
    "Import dataset `Pokemon`. Read the data into a dataframe called `pokemon`.\n",
    "\n",
    "*Data set attributed to [Alberto Barradas](https://www.kaggle.com/abcsds/pokemon/)*"
   ]
  },
  {
   "cell_type": "code",
   "execution_count": 2,
   "metadata": {},
   "outputs": [],
   "source": [
    "# Your code here\n",
    "path = 'data/Pokemon.csv'\n",
    "pokemon = pd.read_csv(path)"
   ]
  },
  {
   "cell_type": "markdown",
   "metadata": {
    "colab_type": "text",
    "id": "twUYPGzC8LYR"
   },
   "source": [
    "#### Print first 10 rows of `pokemon`.\n",
    "\n",
    "Expected output:\n",
    "    \n",
    ">\n",
    ">|    |   # | Name                      | Type 1   | Type 2   |   Total |   HP |   Attack |   Defense |   Sp. Atk |   Sp. Def |   Speed |   Generation | Legendary   |\n",
    "|---:|----:|:--------------------------|:---------|:---------|--------:|-----:|---------:|----------:|----------:|----------:|--------:|-------------:|:------------|\n",
    "|  0 |   1 | Bulbasaur                 | Grass    | Poison   |     318 |   45 |       49 |        49 |        65 |        65 |      45 |            1 | False       |\n",
    "|  1 |   2 | Ivysaur                   | Grass    | Poison   |     405 |   60 |       62 |        63 |        80 |        80 |      60 |            1 | False       |\n",
    "|  2 |   3 | Venusaur                  | Grass    | Poison   |     525 |   80 |       82 |        83 |       100 |       100 |      80 |            1 | False       |\n",
    "|  3 |   3 | VenusaurMega Venusaur     | Grass    | Poison   |     625 |   80 |      100 |       123 |       122 |       120 |      80 |            1 | False       |\n",
    "|  4 |   4 | Charmander                | Fire     | nan      |     309 |   39 |       52 |        43 |        60 |        50 |      65 |            1 | False       |\n",
    "|  5 |   5 | Charmeleon                | Fire     | nan      |     405 |   58 |       64 |        58 |        80 |        65 |      80 |            1 | False       |\n",
    "|  6 |   6 | Charizard                 | Fire     | Flying   |     534 |   78 |       84 |        78 |       109 |        85 |     100 |            1 | False       |\n",
    "|  7 |   6 | CharizardMega Charizard X | Fire     | Dragon   |     634 |   78 |      130 |       111 |       130 |        85 |     100 |            1 | False       |\n",
    "|  8 |   6 | CharizardMega Charizard Y | Fire     | Flying   |     634 |   78 |      104 |        78 |       159 |       115 |     100 |            1 | False       |\n",
    "|  9 |   7 | Squirtle                  | Water    | nan      |     314 |   44 |       48 |        65 |        50 |        64 |      43 |            1 | False       |"
   ]
  },
  {
   "cell_type": "code",
   "execution_count": 3,
   "metadata": {},
   "outputs": [
    {
     "data": {
      "text/html": [
       "<div>\n",
       "<style scoped>\n",
       "    .dataframe tbody tr th:only-of-type {\n",
       "        vertical-align: middle;\n",
       "    }\n",
       "\n",
       "    .dataframe tbody tr th {\n",
       "        vertical-align: top;\n",
       "    }\n",
       "\n",
       "    .dataframe thead th {\n",
       "        text-align: right;\n",
       "    }\n",
       "</style>\n",
       "<table border=\"1\" class=\"dataframe\">\n",
       "  <thead>\n",
       "    <tr style=\"text-align: right;\">\n",
       "      <th></th>\n",
       "      <th>#</th>\n",
       "      <th>Name</th>\n",
       "      <th>Type 1</th>\n",
       "      <th>Type 2</th>\n",
       "      <th>Total</th>\n",
       "      <th>HP</th>\n",
       "      <th>Attack</th>\n",
       "      <th>Defense</th>\n",
       "      <th>Sp. Atk</th>\n",
       "      <th>Sp. Def</th>\n",
       "      <th>Speed</th>\n",
       "      <th>Generation</th>\n",
       "      <th>Legendary</th>\n",
       "    </tr>\n",
       "  </thead>\n",
       "  <tbody>\n",
       "    <tr>\n",
       "      <th>0</th>\n",
       "      <td>1</td>\n",
       "      <td>Bulbasaur</td>\n",
       "      <td>Grass</td>\n",
       "      <td>Poison</td>\n",
       "      <td>318</td>\n",
       "      <td>45</td>\n",
       "      <td>49</td>\n",
       "      <td>49</td>\n",
       "      <td>65</td>\n",
       "      <td>65</td>\n",
       "      <td>45</td>\n",
       "      <td>1</td>\n",
       "      <td>False</td>\n",
       "    </tr>\n",
       "    <tr>\n",
       "      <th>1</th>\n",
       "      <td>2</td>\n",
       "      <td>Ivysaur</td>\n",
       "      <td>Grass</td>\n",
       "      <td>Poison</td>\n",
       "      <td>405</td>\n",
       "      <td>60</td>\n",
       "      <td>62</td>\n",
       "      <td>63</td>\n",
       "      <td>80</td>\n",
       "      <td>80</td>\n",
       "      <td>60</td>\n",
       "      <td>1</td>\n",
       "      <td>False</td>\n",
       "    </tr>\n",
       "    <tr>\n",
       "      <th>2</th>\n",
       "      <td>3</td>\n",
       "      <td>Venusaur</td>\n",
       "      <td>Grass</td>\n",
       "      <td>Poison</td>\n",
       "      <td>525</td>\n",
       "      <td>80</td>\n",
       "      <td>82</td>\n",
       "      <td>83</td>\n",
       "      <td>100</td>\n",
       "      <td>100</td>\n",
       "      <td>80</td>\n",
       "      <td>1</td>\n",
       "      <td>False</td>\n",
       "    </tr>\n",
       "    <tr>\n",
       "      <th>3</th>\n",
       "      <td>3</td>\n",
       "      <td>VenusaurMega Venusaur</td>\n",
       "      <td>Grass</td>\n",
       "      <td>Poison</td>\n",
       "      <td>625</td>\n",
       "      <td>80</td>\n",
       "      <td>100</td>\n",
       "      <td>123</td>\n",
       "      <td>122</td>\n",
       "      <td>120</td>\n",
       "      <td>80</td>\n",
       "      <td>1</td>\n",
       "      <td>False</td>\n",
       "    </tr>\n",
       "    <tr>\n",
       "      <th>4</th>\n",
       "      <td>4</td>\n",
       "      <td>Charmander</td>\n",
       "      <td>Fire</td>\n",
       "      <td>NaN</td>\n",
       "      <td>309</td>\n",
       "      <td>39</td>\n",
       "      <td>52</td>\n",
       "      <td>43</td>\n",
       "      <td>60</td>\n",
       "      <td>50</td>\n",
       "      <td>65</td>\n",
       "      <td>1</td>\n",
       "      <td>False</td>\n",
       "    </tr>\n",
       "  </tbody>\n",
       "</table>\n",
       "</div>"
      ],
      "text/plain": [
       "   #                   Name Type 1  Type 2  Total  HP  Attack  Defense  \\\n",
       "0  1              Bulbasaur  Grass  Poison    318  45      49       49   \n",
       "1  2                Ivysaur  Grass  Poison    405  60      62       63   \n",
       "2  3               Venusaur  Grass  Poison    525  80      82       83   \n",
       "3  3  VenusaurMega Venusaur  Grass  Poison    625  80     100      123   \n",
       "4  4             Charmander   Fire     NaN    309  39      52       43   \n",
       "\n",
       "   Sp. Atk  Sp. Def  Speed  Generation  Legendary  \n",
       "0       65       65     45           1      False  \n",
       "1       80       80     60           1      False  \n",
       "2      100      100     80           1      False  \n",
       "3      122      120     80           1      False  \n",
       "4       60       50     65           1      False  "
      ]
     },
     "execution_count": 3,
     "metadata": {},
     "output_type": "execute_result"
    }
   ],
   "source": [
    "# Your code here\n",
    "pokemon.head()"
   ]
  },
  {
   "cell_type": "markdown",
   "metadata": {
    "colab_type": "text",
    "id": "y5T7a1_i8LYW"
   },
   "source": [
    "When you look at a data set, you often wonder what each column means. Some open-source data sets provide descriptions of the data set. In many cases, data descriptions are extremely useful for data analysts to perform work efficiently and successfully.\n",
    "\n",
    "For the `Pokemon.csv` data set, fortunately, the owner provided descriptions which you can see [here](https://www.kaggle.com/abcsds/pokemon/home). For your convenience, we are including the descriptions below. Read the descriptions and understand what each column means. This knowledge is helpful in your work with the data.\n",
    "\n",
    "| Column | Description |\n",
    "| --- | --- |\n",
    "| # | ID for each pokemon |\n",
    "| Name | Name of each pokemon |\n",
    "| Type 1 | Each pokemon has a type, this determines weakness/resistance to attacks |\n",
    "| Type 2 | Some pokemon are dual type and have 2 |\n",
    "| Total | A general guide to how strong a pokemon is |\n",
    "| HP | Hit points, or health, defines how much damage a pokemon can withstand before fainting |\n",
    "| Attack | The base modifier for normal attacks (eg. Scratch, Punch) |\n",
    "| Defense | The base damage resistance against normal attacks |\n",
    "| SP Atk | Special attack, the base modifier for special attacks (e.g. fire blast, bubble beam) |\n",
    "| SP Def | The base damage resistance against special attacks |\n",
    "| Speed | Determines which pokemon attacks first each round |\n",
    "| Generation | Number of generation |\n",
    "| Legendary | True if Legendary Pokemon False if not |"
   ]
  },
  {
   "cell_type": "markdown",
   "metadata": {
    "colab_type": "text",
    "id": "njrwrcZ08LYW"
   },
   "source": [
    "#### Obtain the distinct values across `Type 1` and `Type 2`.\n",
    "\n",
    "Exctract all the values in `Type 1` and `Type 2`. Then create a list with distinct values across both fields."
   ]
  },
  {
   "cell_type": "code",
   "execution_count": null,
   "metadata": {},
   "outputs": [],
   "source": [
    "# Your code here"
   ]
  },
  {
   "cell_type": "markdown",
   "metadata": {
    "colab_type": "text",
    "id": "VUf4KB0t8LYc"
   },
   "source": [
    "#### Cleanup `Name` that contain \"Mega\".\n",
    "\n",
    "If you have checked out the pokemon names carefully enough, you should have found there are junk texts in the pokemon names which contain \"Mega\". We want to clean up the pokemon names. For instance, \"VenusaurMega Venusaur\" should be \"Mega Venusaur\", and \"CharizardMega Charizard X\" should be \"Mega Charizard X\".\n",
    "\n",
    "**Example of output (You can create a new column or reassign the column 'Name'):**\n",
    "\n",
    ">\n",
    ">|    |   # | Name                  | Type 1   | Type 2   |   Total |   HP |   Attack |   Defense |   Sp. Atk |   Sp. Def |   Speed |   Generation | Legendary   | name_rec      |\n",
    "|---:|----:|:----------------------|:---------|:---------|--------:|-----:|---------:|----------:|----------:|----------:|--------:|-------------:|:------------|:--------------|\n",
    "|  0 |   1 | Bulbasaur             | Grass    | Poison   |     318 |   45 |       49 |        49 |        65 |        65 |      45 |            1 | False       | Bulbasaur     |\n",
    "|  1 |   2 | Ivysaur               | Grass    | Poison   |     405 |   60 |       62 |        63 |        80 |        80 |      60 |            1 | False       | Ivysaur       |\n",
    "|  2 |   3 | Venusaur              | Grass    | Poison   |     525 |   80 |       82 |        83 |       100 |       100 |      80 |            1 | False       | Venusaur      |\n",
    "|  3 |   3 | VenusaurMega Venusaur | Grass    | Poison   |     625 |   80 |      100 |       123 |       122 |       120 |      80 |            1 | False       | Mega Venusaur |\n",
    "|  4 |   4 | Charmander            | Fire     | nan      |     309 |   39 |       52 |        43 |        60 |        50 |      65 |            1 | False       | Charmander    |\n",
    "|  ... |  ... |  ... |  ... |  ... |  ... |  ... |  ... |  ... |  ... |  ... |  ... |  ... |  ... |  ... |"
   ]
  },
  {
   "cell_type": "code",
   "execution_count": null,
   "metadata": {},
   "outputs": [],
   "source": [
    "# Your code here"
   ]
  },
  {
   "cell_type": "markdown",
   "metadata": {
    "colab_type": "text",
    "id": "hkP4BpQY8LYg"
   },
   "source": [
    "#### Create a new column called `A/D Ratio` whose value equals to `Attack` devided by `Defense`.\n",
    "\n",
    "For instance, if a pokemon has the Attack score 49 and Defense score 49, the corresponding `A/D Ratio` is 49/49=1.\n",
    "\n",
    "Expected output:\n",
    "\n",
    ">\n",
    ">|    |   # | Name      | Type 1   | Type 2   |   Total |   HP |   Attack |   Defense |   Sp. Atk |   Sp. Def |   Speed |   Generation | Legendary   | name_rec   |   A/D Ratio |\n",
    "|---:|----:|:----------|:---------|:---------|--------:|-----:|---------:|----------:|----------:|----------:|--------:|-------------:|:------------|:-----------|------------:|\n",
    "|  0 |   1 | Bulbasaur | Grass    | Poison   |     318 |   45 |       49 |        49 |        65 |        65 |      45 |            1 | False       | Bulbasaur  |    1        |\n",
    "|  1 |   2 | Ivysaur   | Grass    | Poison   |     405 |   60 |       62 |        63 |        80 |        80 |      60 |            1 | False       | Ivysaur    |    0.984127 |\n",
    "| ... | ... | ... | ... | ... | ... | ... | ... | ... | ... | ... | ... | ... | ... | ... | ... |"
   ]
  },
  {
   "cell_type": "code",
   "execution_count": null,
   "metadata": {},
   "outputs": [],
   "source": [
    "# Your code here"
   ]
  },
  {
   "cell_type": "markdown",
   "metadata": {
    "colab_type": "text",
    "id": "AZoRillP8LYo"
   },
   "source": [
    "#### Identify the pokemon with the highest `A/D Ratio`."
   ]
  },
  {
   "cell_type": "code",
   "execution_count": null,
   "metadata": {},
   "outputs": [],
   "source": [
    "# Your code here"
   ]
  },
  {
   "cell_type": "markdown",
   "metadata": {
    "colab_type": "text",
    "id": "MxiHdh3t8LYu"
   },
   "source": [
    "#### Identify the pokemon with the lowest A/D Ratio."
   ]
  },
  {
   "cell_type": "code",
   "execution_count": null,
   "metadata": {},
   "outputs": [],
   "source": [
    "# Your code here"
   ]
  },
  {
   "cell_type": "markdown",
   "metadata": {
    "colab_type": "text",
    "id": "ZK0Toi6P8LYz"
   },
   "source": [
    "#### Create a new column called `Combo Type` whose value combines `Type 1` and `Type 2`.\n",
    "\n",
    "Rules:\n",
    "\n",
    "* If both `Type 1` and `Type 2` have valid values, the `Combo Type` value should contain both values in the form of `<Type 1> <Type 2>`. For example, if `Type 1` value is `Grass` and `Type 2` value is `Poison`, `Combo Type` will be `Grass-Poison`.\n",
    "\n",
    "* If `Type 1` has valid value but `Type 2` is not, `Combo Type` will be the same as `Type 1`. For example, if `Type 1` is `Fire` whereas `Type 2` is `NaN`, `Combo Type` will be `Fire`.\n",
    "\n",
    "Expected output:\n",
    "\n",
    ">\n",
    ">|    |   # | Name      | Type 1   | Type 2   |   Total |   HP |   Attack |   Defense |   Sp. Atk |   Sp. Def |   Speed |   Generation | Legendary   | name_rec   |   A/D Ratio | Combo Type   |\n",
    "|---:|----:|:----------|:---------|:---------|--------:|-----:|---------:|----------:|----------:|----------:|--------:|-------------:|:------------|:-----------|------------:|:-------------|\n",
    "|  0 |   1 | Bulbasaur | Grass    | Poison   |     318 |   45 |       49 |        49 |        65 |        65 |      45 |            1 | False       | Bulbasaur  |    1        | Grass-Poison |\n",
    "|  1 |   2 | Ivysaur   | Grass    | Poison   |     405 |   60 |       62 |        63 |        80 |        80 |      60 |            1 | False       | Ivysaur    |    0.984127 | Grass-Poison |\n",
    "| ... | ... | ... | ... | ... | ... | ... | ... | ... | ... | ... | ... | ... | ... | ... | ... | ... |"
   ]
  },
  {
   "cell_type": "code",
   "execution_count": null,
   "metadata": {},
   "outputs": [],
   "source": [
    "# Your code here"
   ]
  },
  {
   "cell_type": "markdown",
   "metadata": {
    "colab_type": "text",
    "id": "rw4yVx8Q8LY3"
   },
   "source": [
    "#### Identify the pokemon whose `A/D Ratio` are among the top 5.\n",
    "\n",
    "Expected output:\n",
    "    \n",
    ">\n",
    ">|     |   # | Name                  | Type 1   | Type 2   |   Total |   HP |   Attack |   Defense |   Sp. Atk |   Sp. Def |   Speed |   Generation | Legendary   | name_rec           |   A/D Ratio | Combo Type   |\n",
    "|----:|----:|:----------------------|:---------|:---------|--------:|-----:|---------:|----------:|----------:|----------:|--------:|-------------:|:------------|:-------------------|------------:|:-------------|\n",
    "| 429 | 386 | DeoxysAttack Forme    | Psychic  | nan      |     600 |   50 |      180 |        20 |       180 |        20 |     150 |            3 | True        | DeoxysAttack Forme |       9     | Psychic      |\n",
    "| 347 | 318 | Carvanha              | Water    | Dark     |     305 |   45 |       90 |        20 |        65 |        20 |      65 |            3 | False       | Carvanha           |       4.5   | Dark-Water   |\n",
    "|  19 |  15 | BeedrillMega Beedrill | Bug      | Poison   |     495 |   65 |      150 |        40 |        15 |        80 |     145 |            1 | False       | Mega Beedrill      |       3.75  | Bug-Poison   |\n",
    "| 453 | 408 | Cranidos              | Rock     | nan      |     350 |   67 |      125 |        40 |        30 |        30 |      58 |            4 | False       | Cranidos           |       3.125 | Rock         |\n",
    "| 348 | 319 | Sharpedo              | Water    | Dark     |     460 |   70 |      120 |        40 |        95 |        40 |      95 |            3 | False       | Sharpedo           |       3     | Dark-Water   |"
   ]
  },
  {
   "cell_type": "code",
   "execution_count": null,
   "metadata": {},
   "outputs": [],
   "source": [
    "# Your code here"
   ]
  },
  {
   "cell_type": "markdown",
   "metadata": {
    "colab_type": "text",
    "id": "BM0BB1nk8LY_"
   },
   "source": [
    "#### For the 5 pokemon printed above, aggregate `Combo Type` and use a list to store the unique values.\n",
    "\n",
    "Your end product is a list containing the distinct `Combo Type` values of the 5 pokemon with the highest `A/D Ratio`."
   ]
  },
  {
   "cell_type": "code",
   "execution_count": null,
   "metadata": {},
   "outputs": [],
   "source": [
    "# Your code here"
   ]
  },
  {
   "cell_type": "markdown",
   "metadata": {
    "colab_type": "text",
    "id": "vuaKIeFl8LZJ"
   },
   "source": [
    "#### For each of the `Combo Type` values obtained from the previous question, calculate the mean scores of all numeric fields across all pokemon.\n",
    "\n",
    "Your output should look like below:\n",
    "\n",
    "![Aggregate](images/aggregated-mean.png)"
   ]
  },
  {
   "cell_type": "code",
   "execution_count": null,
   "metadata": {},
   "outputs": [],
   "source": [
    "# Your code here"
   ]
  }
 ],
 "metadata": {
  "colab": {
   "collapsed_sections": [],
   "name": "challenge-1.ipynb",
   "provenance": []
  },
  "kernelspec": {
   "display_name": "Python 3 (ipykernel)",
   "language": "python",
   "name": "python3"
  },
  "language_info": {
   "codemirror_mode": {
    "name": "ipython",
    "version": 3
   },
   "file_extension": ".py",
   "mimetype": "text/x-python",
   "name": "python",
   "nbconvert_exporter": "python",
   "pygments_lexer": "ipython3",
   "version": "3.9.13"
  }
 },
 "nbformat": 4,
 "nbformat_minor": 1
}
