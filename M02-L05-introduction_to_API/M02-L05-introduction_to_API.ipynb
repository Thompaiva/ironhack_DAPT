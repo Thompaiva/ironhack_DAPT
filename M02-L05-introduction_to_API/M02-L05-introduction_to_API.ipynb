{
 "cells": [
  {
   "cell_type": "markdown",
   "metadata": {},
   "source": [
    "# LAB | introduction to API"
   ]
  },
  {
   "cell_type": "markdown",
   "metadata": {},
   "source": [
    "Introduction:\n",
    "- In this lab we will work with New York Times API.\n",
    "- You can check the api documentation [here](https://developer.nytimes.com/apis)."
   ]
  },
  {
   "cell_type": "markdown",
   "metadata": {},
   "source": [
    "## Import libraries"
   ]
  },
  {
   "cell_type": "code",
   "execution_count": 1,
   "metadata": {},
   "outputs": [],
   "source": [
    "# Your code here\n",
    "import requests, time\n",
    "from datetime import datetime\n",
    "import pandas as pd"
   ]
  },
  {
   "cell_type": "markdown",
   "metadata": {},
   "source": [
    "## Getting access to the API"
   ]
  },
  {
   "cell_type": "markdown",
   "metadata": {},
   "source": [
    "- Check the get started page [here](https://developer.nytimes.com/get-started)\n",
    "    - Create an account in the NYtimes developers \n",
    "    - Register apps. You can enable all APIs (Archive API, Article Search API, Books API ...)"
   ]
  },
  {
   "cell_type": "markdown",
   "metadata": {},
   "source": [
    "## Saving your key\n",
    "- After register the apps the website will return a API key.\n",
    "- We advise you to save the api key in the external file `your_key.txt` \n",
    "- **Be careful: Do not upload your key to a public repository in github**\n",
    "- After save you key in the `your_key.txt` file you can open and use the key with the code below:"
   ]
  },
  {
   "cell_type": "code",
   "execution_count": 2,
   "metadata": {},
   "outputs": [],
   "source": [
    "your_key = open('your_key.txt', 'r').read()"
   ]
  },
  {
   "cell_type": "markdown",
   "metadata": {},
   "source": [
    "______________________________"
   ]
  },
  {
   "cell_type": "markdown",
   "metadata": {},
   "source": [
    "## Archive API\n",
    "- Get all NYT article metadata for a given month.\n",
    "- You can check the documentation [here](https://developer.nytimes.com/docs/archive-product/1/routes/%7Byear%7D/%7Bmonth%7D.json/get)."
   ]
  },
  {
   "cell_type": "markdown",
   "metadata": {},
   "source": [
    "### Get articles\n",
    "\n",
    "- Use the code below to get the data.\n",
    "- You should assign a value for year and month.\n",
    "```python\n",
    "query_url_archive = f\"https://api.nytimes.com/svc/archive/v1/{year}/{month}.json?api-key={your_key}\"\n",
    "archive_request = requests.get(query_url_archive)\n",
    "archive_request\n",
    "```\n",
    "- You should get `<Response [200]>` as a result"
   ]
  },
  {
   "cell_type": "code",
   "execution_count": null,
   "metadata": {},
   "outputs": [],
   "source": [
    "# Your code here"
   ]
  },
  {
   "cell_type": "markdown",
   "metadata": {},
   "source": [
    "###  Reading the response\n",
    "- You should use `.json()` to get the information from your response"
   ]
  },
  {
   "cell_type": "code",
   "execution_count": null,
   "metadata": {},
   "outputs": [],
   "source": [
    "# Your code here"
   ]
  },
  {
   "cell_type": "markdown",
   "metadata": {},
   "source": [
    "### Creating a DataFrame\n",
    "- Create a dataframe from the request that you made.\n",
    "- **Hint**: You may need to enter in some keys from your json file"
   ]
  },
  {
   "cell_type": "code",
   "execution_count": null,
   "metadata": {},
   "outputs": [],
   "source": [
    "# Your code here"
   ]
  },
  {
   "cell_type": "markdown",
   "metadata": {},
   "source": [
    "### Working with the data\n",
    "- One of your dataframe columns shall be `news_desk`. \n",
    "- Group your dataframe by `news_desk` column and count the values.\n",
    "- What are the top 5 of this grouping"
   ]
  },
  {
   "cell_type": "code",
   "execution_count": null,
   "metadata": {},
   "outputs": [],
   "source": [
    "# Your code here"
   ]
  },
  {
   "cell_type": "markdown",
   "metadata": {},
   "source": [
    "______________________________"
   ]
  },
  {
   "cell_type": "markdown",
   "metadata": {},
   "source": [
    "# Books API\n",
    "- Get Best Sellers by date.\n",
    "- You can check the documentation [here](https://developer.nytimes.com/docs/books-product/1/routes/lists/%7Bdate%7D/%7Blist%7D.json/get)."
   ]
  },
  {
   "cell_type": "markdown",
   "metadata": {},
   "source": [
    "### Get books\n",
    "- Use the code below to get the data.\n",
    "- Use `hardcover-fiction` as `type_book`.\n",
    "```python\n",
    "query_url_book = f'https://api.nytimes.com/svc/books/v3/lists/{date}/{type_book}.json?api-key={your_key}'\n",
    "```\n"
   ]
  },
  {
   "cell_type": "code",
   "execution_count": null,
   "metadata": {},
   "outputs": [],
   "source": [
    "# Your code here"
   ]
  },
  {
   "cell_type": "markdown",
   "metadata": {},
   "source": [
    "## Creating a DataFrame\n",
    "- Create a dataframe from the request that you made.\n",
    "- Find the top 5 books of the day you chose and bring the title, author, publisher and description of the books.\n",
    "- **Hint**: You may need to enter in some keys from your json file."
   ]
  },
  {
   "cell_type": "code",
   "execution_count": null,
   "metadata": {},
   "outputs": [],
   "source": [
    "# Your code here"
   ]
  },
  {
   "cell_type": "markdown",
   "metadata": {},
   "source": [
    "______________________________"
   ]
  },
  {
   "cell_type": "markdown",
   "metadata": {},
   "source": [
    "# Movie Reviews API\n",
    "- Search New York Times movie reviews by keyword or opening date or filter by Critics' Picks.\n",
    "- You can check the documentation [here](https://developer.nytimes.com/docs/movie-reviews-api/1/overview)."
   ]
  },
  {
   "cell_type": "markdown",
   "metadata": {},
   "source": [
    "### Get movies reviews\n",
    "- Using the following list, search for movie reviews with `Movie Reviews API`.\n",
    "- Create a unique dataframe to store the results.\n",
    "```python\n",
    "list_movies = ['parasite', 'batman', 'avengers', 'pulp fiction', 'interstellar']\n",
    "```"
   ]
  },
  {
   "cell_type": "code",
   "execution_count": null,
   "metadata": {},
   "outputs": [],
   "source": [
    "# Your code here"
   ]
  }
 ],
 "metadata": {
  "kernelspec": {
   "display_name": "Python 3 (ipykernel)",
   "language": "python",
   "name": "python3"
  },
  "language_info": {
   "codemirror_mode": {
    "name": "ipython",
    "version": 3
   },
   "file_extension": ".py",
   "mimetype": "text/x-python",
   "name": "python",
   "nbconvert_exporter": "python",
   "pygments_lexer": "ipython3",
   "version": "3.9.13"
  }
 },
 "nbformat": 4,
 "nbformat_minor": 4
}
