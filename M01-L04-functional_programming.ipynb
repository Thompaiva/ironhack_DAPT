{
 "cells": [
  {
   "cell_type": "markdown",
   "metadata": {},
   "source": [
    "#### Comece importando as bibliotecas:"
   ]
  },
  {
   "cell_type": "code",
   "execution_count": 3,
   "metadata": {
    "colab": {},
    "colab_type": "code",
    "id": "1t-NDi5NDCIW"
   },
   "outputs": [],
   "source": [
    "import numpy as np\n",
    "import pandas as pd\n",
    "import statistics as stats"
   ]
  },
  {
   "cell_type": "markdown",
   "metadata": {
    "colab_type": "text",
    "id": "P53qCn3xDCIg"
   },
   "source": [
    "# Por Dentro de Funções\n",
    "Você já tem familiaridade com várias funções nativas do Python, assim como com bibliotecas.\n",
    "\n",
    "Vamos tentar entender como elas são criadas em Python puro.\n",
    "\n",
    "Crie uma função que retorne a `contagem` de elementos numa lista de números."
   ]
  },
  {
   "cell_type": "code",
   "execution_count": 1,
   "metadata": {},
   "outputs": [],
   "source": [
    "test_list = [1,2,3,4,5,6,7,8,9,10,12,13]"
   ]
  },
  {
   "cell_type": "code",
   "execution_count": 37,
   "metadata": {},
   "outputs": [
    {
     "data": {
      "text/plain": [
       "12"
      ]
     },
     "execution_count": 37,
     "metadata": {},
     "output_type": "execute_result"
    }
   ],
   "source": [
    "# Seu código aqui\n",
    "def soma_lista(lista_numeros):\n",
    "      \n",
    "    total_lista = 0\n",
    "    for elemento in lista_numeros:\n",
    "        total_lista += 1\n",
    "        \n",
    "    return total_lista\n",
    "    \n",
    "soma_lista(test_list)"
   ]
  },
  {
   "cell_type": "markdown",
   "metadata": {
    "colab_type": "text",
    "id": "02PYrNc5DCIt"
   },
   "source": [
    "Crie uma função que retorne a `média` dos elementos de uma lista de números."
   ]
  },
  {
   "cell_type": "code",
   "execution_count": 27,
   "metadata": {},
   "outputs": [],
   "source": [
    "# Seu código aqui\n",
    "def media_lista(lista_numeros):\n",
    "    media = stats.mean(lista_numeros)\n",
    "    return media\n",
    "\n",
    "    "
   ]
  },
  {
   "cell_type": "code",
   "execution_count": 14,
   "metadata": {},
   "outputs": [
    {
     "data": {
      "text/plain": [
       "6.666666666666667"
      ]
     },
     "execution_count": 14,
     "metadata": {},
     "output_type": "execute_result"
    }
   ],
   "source": [
    "media_lista(test_list)"
   ]
  },
  {
   "cell_type": "markdown",
   "metadata": {
    "colab_type": "text",
    "id": "xy1rA4EeDCI5"
   },
   "source": [
    "Crie uma função que retorne o `desvio padrão` dos elementos de uma lista de números. Use a função que acabou de criar. "
   ]
  },
  {
   "cell_type": "code",
   "execution_count": 21,
   "metadata": {},
   "outputs": [
    {
     "data": {
      "text/plain": [
       "3.869069264008719"
      ]
     },
     "execution_count": 21,
     "metadata": {},
     "output_type": "execute_result"
    }
   ],
   "source": [
    "# Seu código aqui\n",
    "def desvio_lista(lista_numeros):\n",
    "    desv = stats.stdev(lista_numeros)\n",
    "    return desv\n",
    "\n",
    "desvio_lista(test_list)"
   ]
  },
  {
   "cell_type": "markdown",
   "metadata": {
    "colab_type": "text",
    "id": "Dro2ll4WDCJB"
   },
   "source": [
    "Crie uma função que retorne a `contagem`, a `média` e o `desvio padrão` dos elementos de uma lista de números.\n",
    "\n",
    "Usando aspas triplas, `documente a função`. Sua documentação deve ter descrição, parâmetros, retornos e exemplos."
   ]
  },
  {
   "cell_type": "code",
   "execution_count": 5,
   "metadata": {},
   "outputs": [
    {
     "data": {
      "text/plain": [
       "(12, 6.666666666666667, 3.869069264008719)"
      ]
     },
     "execution_count": 5,
     "metadata": {},
     "output_type": "execute_result"
    }
   ],
   "source": [
    "# Seu código aqui\n",
    "def faz_tudo(lista_numeros):\n",
    "    '''Retorna contagem, media e desvio padrão de 1 lista.\n",
    "\n",
    "            Parameters:\n",
    "                    lista de numeros (list): de número float ou inteiro.\n",
    "                   \n",
    "            Returns:\n",
    "                    3 variáveis (numeric): contagem (total_lista), media e desvio padrão. '''\n",
    "    desv = stats.stdev(lista_numeros)\n",
    "    media = stats.mean(lista_numeros)\n",
    "    total_lista = 0\n",
    "    for elemento in lista_numeros:\n",
    "        total_lista += 1\n",
    "        \n",
    "    return total_lista, media, desv\n",
    "\n",
    "faz_tudo(test_list)"
   ]
  },
  {
   "cell_type": "markdown",
   "metadata": {
    "colab_type": "text",
    "id": "-_YUdHo7DCJJ"
   },
   "source": [
    "## Limpeza de Cadeias de Caracteres\n",
    "Quando estamos trabalhando com dados de texto, frequentemente precisamos limpá-lo antes de poder fazer análises.\n",
    "\n",
    "Crie uma função que recebe uma string e retorna a mesma `sem caracteres especiais`, com todas as `letras em minúsculo` e em `ordem alfabética`."
   ]
  },
  {
   "cell_type": "code",
   "execution_count": 24,
   "metadata": {},
   "outputs": [],
   "source": [
    "test_string = \"xnsiAAx_vcdsmc oB.,/?xedxmew\""
   ]
  },
  {
   "cell_type": "code",
   "execution_count": 23,
   "metadata": {},
   "outputs": [
    {
     "data": {
      "text/plain": [
       "'aabccddeeimmnossvwxxxx'"
      ]
     },
     "execution_count": 23,
     "metadata": {},
     "output_type": "execute_result"
    }
   ],
   "source": [
    "# Seu código aqui\n",
    "import re\n",
    "def string_limpo(string_qualquer):\n",
    "    pattern = r'[^A-Za-z0-9*]'\n",
    "    string_limpo = re.sub(pattern, \"\", string_qualquer)\n",
    "    string_limpo = sorted(string_limpo.lower()) \n",
    "    return ''.join(string_limpo)\n",
    "\n",
    "string_limpo(test_string)\n"
   ]
  },
  {
   "cell_type": "markdown",
   "metadata": {
    "colab_type": "text",
    "id": "23s3vEQ-DCJO"
   },
   "source": [
    "# Classificação\n",
    "Às vezes, datasets nos fornecem informações muito boas e precisas, mas não do jeito que precisamos para usá-las.\n",
    "\n",
    "Neste desafio, faça uma função que recebe a lista abaixo e retorna uma `lista de categorias`.\n",
    "\n",
    "Use a mediana como parâmetro para classificar os números como: `\"acima da mediana\"`, `\"mediana\"` ou  `\"abaixo da mediana\"`."
   ]
  },
  {
   "cell_type": "code",
   "execution_count": 27,
   "metadata": {},
   "outputs": [],
   "source": [
    "list_for_classification = [ 50, 120, 30, 10, 90, 70, 10]"
   ]
  },
  {
   "cell_type": "code",
   "execution_count": 29,
   "metadata": {},
   "outputs": [
    {
     "data": {
      "text/plain": [
       "['mediana',\n",
       " 'acima da mediana',\n",
       " 'abaixo da mediana',\n",
       " 'abaixo da mediana',\n",
       " 'acima da mediana',\n",
       " 'acima da mediana',\n",
       " 'abaixo da mediana']"
      ]
     },
     "execution_count": 29,
     "metadata": {},
     "output_type": "execute_result"
    }
   ],
   "source": [
    "# Seu código aqui\n",
    "def categorias(minha_lista):\n",
    "    nova_lista = []\n",
    "    # minha_lista = sorted(minha_lista)\n",
    "    mediana = stats.median(minha_lista)\n",
    "    for elemento in minha_lista:\n",
    "        if elemento < mediana:\n",
    "            nova_lista.append(\"abaixo da mediana\")\n",
    "        elif elemento == mediana:\n",
    "            nova_lista.append(\"mediana\")\n",
    "        else:\n",
    "            nova_lista.append(\"acima da mediana\")\n",
    "            \n",
    "    return nova_lista\n",
    "\n",
    "categorias(list_for_classification)\n",
    "            \n",
    "        "
   ]
  },
  {
   "cell_type": "markdown",
   "metadata": {
    "colab_type": "text",
    "id": "qgCz4w1XDCJU"
   },
   "source": [
    "# Recursividade \n",
    "Em alguns casos, é interessante construir uma função que chame a si mesma.\n",
    "\n",
    "Use uma `função recursiva` que peça ao usuário que entre sua idade.\n",
    "\n",
    "Continue perguntando até que o usuário entre com um `número entre 0 e 150`."
   ]
  },
  {
   "cell_type": "code",
   "execution_count": 43,
   "metadata": {},
   "outputs": [
    {
     "name": "stdout",
     "output_type": "stream",
     "text": [
      "qual é sua idade? 54\n"
     ]
    },
    {
     "data": {
      "text/plain": [
       "54"
      ]
     },
     "execution_count": 43,
     "metadata": {},
     "output_type": "execute_result"
    }
   ],
   "source": [
    "# Seu código aqui\n",
    "def idade():\n",
    "    idade_certa = int(input(\"qual é sua idade? \"))\n",
    "    if idade_certa >= 0 and idade_certa <= 150:\n",
    "        return idade_certa\n",
    "\n",
    "    else:\n",
    "        print('Por favor, digite apenas números entre 0 e 150!')\n",
    "        return idade()\n",
    "    \n",
    "\n",
    "idade()"
   ]
  },
  {
   "cell_type": "markdown",
   "metadata": {
    "colab_type": "text",
    "id": "k0oT8Xo2DCJa"
   },
   "source": [
    "# Variáveis globais e locais\n",
    "Crie uma função que coloque palavras em ordem alfabética.\n",
    "Retorno esperado:\n",
    "````python\n",
    "'AI Big Data Data Warehouse Machine Learning Pipeline'\n",
    "````\n",
    "Faça a função usando variáveis locais."
   ]
  },
  {
   "cell_type": "code",
   "execution_count": 45,
   "metadata": {},
   "outputs": [
    {
     "data": {
      "text/plain": [
       "['AI', 'Big Data', 'Data Warehouse', 'Machine Learning', 'Pipeline']"
      ]
     },
     "execution_count": 45,
     "metadata": {},
     "output_type": "execute_result"
    }
   ],
   "source": [
    "# Seu código aqui\n",
    "def alphabetical_order_local():\n",
    "    local_variable =  \"Big Data, Machine Learning, AI, Data Warehouse, Pipeline\"\n",
    "    minha_lista = local_variable.split(\", \")\n",
    "    minha_lista = sorted(minha_lista)\n",
    "    \n",
    "    return minha_lista\n",
    "\n",
    "alphabetical_order_local()\n",
    "    "
   ]
  },
  {
   "cell_type": "markdown",
   "metadata": {},
   "source": [
    "Faça a função usando variáveis globais."
   ]
  },
  {
   "cell_type": "code",
   "execution_count": null,
   "metadata": {},
   "outputs": [],
   "source": [
    "# Seu código aqui"
   ]
  },
  {
   "cell_type": "code",
   "execution_count": 47,
   "metadata": {},
   "outputs": [
    {
     "data": {
      "text/plain": [
       "['AI', 'Big Data', 'Data Warehouse', 'Machine Learning', 'Pipeline']"
      ]
     },
     "execution_count": 47,
     "metadata": {},
     "output_type": "execute_result"
    }
   ],
   "source": [
    "global_variable = \"Big Data, Machine Learning, AI, Data Warehouse, Pipeline\"\n",
    "minha_lista = global_variable.split(\", \")\n",
    "minha_lista = sorted(minha_lista)\n",
    "def alphabetical_order_global():\n",
    "    return minha_lista\n",
    "\n",
    "alphabetical_order_global()"
   ]
  }
 ],
 "metadata": {
  "colab": {
   "name": "functional_programming.ipynb",
   "provenance": []
  },
  "kernelspec": {
   "display_name": "Python 3 (ipykernel)",
   "language": "python",
   "name": "python3"
  },
  "language_info": {
   "codemirror_mode": {
    "name": "ipython",
    "version": 3
   },
   "file_extension": ".py",
   "mimetype": "text/x-python",
   "name": "python",
   "nbconvert_exporter": "python",
   "pygments_lexer": "ipython3",
   "version": "3.9.13"
  },
  "toc": {
   "base_numbering": 1,
   "nav_menu": {},
   "number_sections": true,
   "sideBar": true,
   "skip_h1_title": false,
   "title_cell": "Table of Contents",
   "title_sidebar": "Contents",
   "toc_cell": false,
   "toc_position": {},
   "toc_section_display": true,
   "toc_window_display": false
  },
  "varInspector": {
   "cols": {
    "lenName": 16,
    "lenType": 16,
    "lenVar": 40
   },
   "kernels_config": {
    "python": {
     "delete_cmd_postfix": "",
     "delete_cmd_prefix": "del ",
     "library": "var_list.py",
     "varRefreshCmd": "print(var_dic_list())"
    },
    "r": {
     "delete_cmd_postfix": ") ",
     "delete_cmd_prefix": "rm(",
     "library": "var_list.r",
     "varRefreshCmd": "cat(var_dic_list()) "
    }
   },
   "types_to_exclude": [
    "module",
    "function",
    "builtin_function_or_method",
    "instance",
    "_Feature"
   ],
   "window_display": false
  },
  "vscode": {
   "interpreter": {
    "hash": "7869b160c3910301faef0a277a4870fbba5b5242c72c77312845f42f06961f70"
   }
  }
 },
 "nbformat": 4,
 "nbformat_minor": 1
}
