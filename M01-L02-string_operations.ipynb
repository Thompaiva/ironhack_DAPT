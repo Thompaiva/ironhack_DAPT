{
 "cells": [
  {
   "cell_type": "markdown",
   "metadata": {
    "id": "yLuALiyCkUJ3"
   },
   "source": [
    "# Combinando Cadeias de Caracteres\n",
    "\n",
    "Combinar cadeias de caracteres (strings) é uma importante habilidade para adquirirmos. Há múltiplas formas de combinar strings no Python, assim como combinar strings com variáveis. Vamos explorar essas combinações no primeiro desafio. Na célula abaixo, combine as strings da lista, adicionando espaços entre elas (não adicione espaços no começo nem no fim). Acrescente um ponto final depois da última string."
   ]
  },
  {
   "cell_type": "code",
   "execution_count": 1,
   "metadata": {},
   "outputs": [],
   "source": [
    "str_list = ['Durante', 'un', 'tiempo', 'no', 'estuvo', 'segura', 'de', 'si', 'su', 'marido', 'era', 'su', 'marido']"
   ]
  },
  {
   "cell_type": "code",
   "execution_count": 9,
   "metadata": {
    "id": "n0LxSL1tkUJ4"
   },
   "outputs": [
    {
     "name": "stdout",
     "output_type": "stream",
     "text": [
      "Durante un tiempo no estuvo segura de si su marido era su marido.\n"
     ]
    }
   ],
   "source": [
    "# Seu código aqui\n",
    "str_list00 = ' '.join(str_list) + \".\"\n",
    "print(str_list00)\n"
   ]
  },
  {
   "cell_type": "markdown",
   "metadata": {
    "id": "jjnjuDhbkUJ6"
   },
   "source": [
    "Use a lista de strings da célula abaixo para criar uma string única. Comece a string com `\"Grocery B-List: \"` e inclua, com letras minúsculas, somente os elementos da lista que começam com a letra `B`. Entre os elementos, coloque uma vírgula e um espaço; ao final, conclua com um ponto.\n",
    "Seu resultado deve ser o seguinte:\n",
    "\n",
    "*`Grocery B-List: bananas, bread, brownie mix, broccoli.`*"
   ]
  },
  {
   "cell_type": "code",
   "execution_count": 11,
   "metadata": {},
   "outputs": [],
   "source": [
    "food_list = ['Bananas', 'Chocolate', 'bread', 'diapers', 'Ice Cream', 'Brownie Mix', 'broccoli']"
   ]
  },
  {
   "cell_type": "code",
   "execution_count": 23,
   "metadata": {
    "id": "D9EWG-9YkUJ6"
   },
   "outputs": [
    {
     "name": "stdout",
     "output_type": "stream",
     "text": [
      "['bananas', 'bread', 'brownie mix', 'broccoli']\n",
      " Grocery B-List: bananas, bread, brownie mix, broccoli.\n"
     ]
    }
   ],
   "source": [
    "# Seu código aqui\n",
    "import re\n",
    "\n",
    "\n",
    "food_list00 = []\n",
    "for elemento in food_list:\n",
    "    if elemento.lower().startswith(\"b\"):\n",
    "        food_list00.append(elemento.lower())\n",
    "print(food_list00)\n",
    "food_list01 = ', '.join(food_list00) +\".\"\n",
    "print(\" Grocery B-List: \" + food_list01)"
   ]
  },
  {
   "cell_type": "markdown",
   "metadata": {
    "id": "5wUx1N0gkUJ_"
   },
   "source": [
    "# Separando Cadeias de Caracteres\n",
    "\n",
    "Já vimos como combinar múltiplas strings em uma única. Às vezes, precisaremos fazer o contrário, e separar uma string em strings menores, para algumas análises.\n",
    "\n",
    "Crie uma lista de strings a partir da string da célula abaixo, usando espaço (`\" \"`) como separador. Remova pontos, vírgulas, quebras de linha e eventuais strings vazias. Converta todas as letras em minúsculas. Então, crie um dicionário com todas as palavras, acompanhadas das respectivas frequências com que aparecem em `poem`."
   ]
  },
  {
   "cell_type": "code",
   "execution_count": 8,
   "metadata": {
    "id": "5kCqHBEUkUKA"
   },
   "outputs": [],
   "source": [
    "poem = \"\"\"Some say the world will end in fire,\n",
    "Some say in ice.\n",
    "From what I’ve tasted of desire\n",
    "I hold with those who favor fire.\n",
    "But if it had to perish twice,\n",
    "I think I know enough of hate\n",
    "To say that for destruction ice\n",
    "Is also great\n",
    "And would suffice.\"\"\""
   ]
  },
  {
   "cell_type": "code",
   "execution_count": 13,
   "metadata": {},
   "outputs": [
    {
     "name": "stdout",
     "output_type": "stream",
     "text": [
      "{'some': 2, 'say': 3, 'the': 1, 'world': 1, 'will': 1, 'end': 1, 'in': 2, 'fire': 2, 'ice': 2, 'from': 1, 'what': 1, 'i’ve': 1, 'tasted': 1, 'of': 2, 'desire': 1, 'i': 3, 'hold': 1, 'with': 1, 'those': 1, 'who': 1, 'favor': 1, 'but': 1, 'if': 1, 'it': 1, 'had': 1, 'to': 2, 'perish': 1, 'twice': 1, 'think': 1, 'know': 1, 'enough': 1, 'hate': 1, 'that': 1, 'for': 1, 'destruction': 1, 'is': 1, 'also': 1, 'great': 1, 'and': 1, 'would': 1, 'suffice': 1}\n"
     ]
    }
   ],
   "source": [
    "# Seu código aqui\n",
    "lista00 = []\n",
    "poem_list = poem.split()\n",
    "# print(poem_list)\n",
    "for palavra in poem_list:\n",
    "    palavra = palavra.lower()\n",
    "    palavra = palavra.strip()\n",
    "    if \".\" in palavra:\n",
    "        palavra = palavra.replace(\".\",\"\")  \n",
    "    if \",\" in palavra:\n",
    "        palavra = palavra.replace(\",\",\"\")\n",
    "    if \"\\n\" in palavra:\n",
    "        palavra = palavra.replace(\"\\n\",\"\")\n",
    "    lista00.append(palavra)\n",
    "# print(lista00)\n",
    "        \n",
    "dict00 = {}\n",
    "\n",
    "for palavra in lista00:\n",
    "    if palavra not in dict00.keys():\n",
    "        dict00[palavra] = 1\n",
    "    else:\n",
    "        dict00[palavra] += 1\n",
    "print(dict00)\n",
    "        \n",
    "        "
   ]
  },
  {
   "cell_type": "markdown",
   "metadata": {
    "id": "84q3YtTEkUKC"
   },
   "source": [
    "Agora, ache todas as palavras que aparecem em `poem`, mas não em `reject_list`.\n",
    "Remova qualquer caracter não-alfabético e converta todas as letras em minúsculas."
   ]
  },
  {
   "cell_type": "code",
   "execution_count": 14,
   "metadata": {
    "id": "Xx0iP3skkUKE"
   },
   "outputs": [],
   "source": [
    "reject_list = ['and', 'as', 'an', 'a', 'the', 'in', 'it']\n",
    "\n",
    "poem = \"\"\"I was angry with my friend; \n",
    "I told my wrath, my wrath did end.\n",
    "I was angry with my foe: \n",
    "I told it not, my wrath did grow. \n",
    "\n",
    "And I waterd it in fears,\n",
    "Night & morning with my tears: \n",
    "And I sunned it with smiles,\n",
    "And with soft deceitful wiles. \n",
    "\n",
    "And it grew both day and night. \n",
    "Till it bore an apple bright. \n",
    "And my foe beheld it shine,\n",
    "And he knew that it was mine. \n",
    "\n",
    "And into my garden stole, \n",
    "When the night had veild the pole; \n",
    "In the morning glad I see; \n",
    "My foe outstretched beneath the tree.\"\"\"\n"
   ]
  },
  {
   "cell_type": "code",
   "execution_count": 20,
   "metadata": {},
   "outputs": [
    {
     "name": "stdout",
     "output_type": "stream",
     "text": [
      "['i', 'was', 'angry', 'with', 'my', 'friend', 'told', 'wrath', 'did', 'end', 'foe', 'not', 'grow', 'waterd', 'fears', 'night', '&', 'morning', 'tears', 'sunned', 'smiles', 'soft', 'deceitful', 'wiles', 'grew', 'both', 'day', 'till', 'bore', 'apple', 'bright', 'beheld', 'shine', 'he', 'knew', 'that', 'mine', 'into', 'garden', 'stole', 'when', 'had', 'veild', 'pole', 'glad', 'see', 'outstretched', 'beneath', 'tree']\n"
     ]
    }
   ],
   "source": [
    "# Seu código aqui\n",
    "poem_list = poem.split()\n",
    "list00 = []\n",
    "for palavra in poem_list:\n",
    "    palavra = palavra.lower()\n",
    "    palavra = palavra.strip()\n",
    "    if \".\" in palavra:\n",
    "        palavra = palavra.replace(\".\",\"\")  \n",
    "    if \",\" in palavra:\n",
    "        palavra = palavra.replace(\",\",\"\")\n",
    "    if \"\\n\" in palavra:\n",
    "        palavra = palavra.replace(\"\\n\",\"\")\n",
    "    if \":\" in palavra:\n",
    "        palavra = palavra.replace(\":\",\"\")\n",
    "    if \";\" in palavra:\n",
    "        palavra = palavra.replace(\";\",\"\")\n",
    "    if palavra not in reject_list and palavra not in list00:    # o \"not in list00 é para ser sem repetição\n",
    "        list00.append(palavra)\n",
    "        \n",
    "print(list00)\n",
    "        \n",
    "        \n"
   ]
  },
  {
   "cell_type": "markdown",
   "metadata": {
    "id": "LKji8o7ayAba"
   },
   "source": [
    "# Expressões Regulares - RegEx"
   ]
  },
  {
   "cell_type": "markdown",
   "metadata": {},
   "source": [
    "Antes de qualquer coisa, importemos o módulo `re`."
   ]
  },
  {
   "cell_type": "code",
   "execution_count": 11,
   "metadata": {},
   "outputs": [],
   "source": [
    "import re"
   ]
  },
  {
   "cell_type": "markdown",
   "metadata": {},
   "source": [
    "Obtenha uma lista contendo todos os números de telefone em `text`:\n",
    "\n",
    "*Atenção: são 5 números!*"
   ]
  },
  {
   "cell_type": "code",
   "execution_count": 16,
   "metadata": {
    "id": "wM4v-225yBNP"
   },
   "outputs": [],
   "source": [
    "text = \"\"\"\n",
    "Henry's phone number is 9789-0984\n",
    "Darlene's phone number is 4222-0901\n",
    "Andrew's phone number is 4312-5701\n",
    "James' phone number is 9413 1383\n",
    "Erica's phone number is 8993-1031\n",
    "\"\"\""
   ]
  },
  {
   "cell_type": "code",
   "execution_count": 30,
   "metadata": {},
   "outputs": [
    {
     "name": "stdout",
     "output_type": "stream",
     "text": [
      "['9789-0984', '4222-0901', '4312-5701', '8993-1031']\n"
     ]
    }
   ],
   "source": [
    "# Seu código aqui\n",
    "import re\n",
    "lista00 = text.split()\n",
    "#print(lista00)\n",
    "padrao = r\"\\d+-\\d+\"\n",
    "lista01 = []\n",
    "for elemento in lista00:\n",
    "    if re.findall(padrao, elemento):\n",
    "        lista01.append(re.findall(padrao, elemento)[0])\n",
    "print(lista01)\n"
   ]
  },
  {
   "cell_type": "markdown",
   "metadata": {
    "id": "N7UZNc5lxSzZ"
   },
   "source": [
    "Filtre a lista abaixo, retornando somente os elementos que contêm dígitos.\n",
    "\n",
    "Para isso, use o método `re.search`. (Você pode ler mais sobre o método [aqui](https://docs.python.org/3/library/re.html))."
   ]
  },
  {
   "cell_type": "code",
   "execution_count": 1,
   "metadata": {
    "id": "EzUBZKGqxX-A"
   },
   "outputs": [],
   "source": [
    "data = ['123abc', 'abc123', 'JohnSmith1', 'ABBY4', 'JANE']"
   ]
  },
  {
   "cell_type": "code",
   "execution_count": 18,
   "metadata": {},
   "outputs": [
    {
     "name": "stdout",
     "output_type": "stream",
     "text": [
      "[<re.Match object; span=(0, 6), match='123abc'>, <re.Match object; span=(0, 6), match='abc123'>, <re.Match object; span=(0, 10), match='JohnSmith1'>, <re.Match object; span=(0, 5), match='ABBY4'>, None]\n"
     ]
    }
   ],
   "source": [
    "# Seu código aqui\n",
    "import re\n",
    "padrao = r\"\\w*\\d+\\w*\"\n",
    "data00 = []\n",
    "#re.search(padrao, data[])\n",
    "for palavra in data:\n",
    "    data00.append(re.search(padrao, palavra))\n",
    "print(data00)"
   ]
  },
  {
   "cell_type": "markdown",
   "metadata": {},
   "source": [
    "# Bônus "
   ]
  },
  {
   "cell_type": "markdown",
   "metadata": {},
   "source": [
    "### Cadeias de Caracteres\n",
    "Quantas vezes palavras de `keywords_list` aparecem em cada string de `reviews`?\n",
    "\n",
    "*Letras maiúsculas e minúsculas não devem ser diferenciadas na contagem.*"
   ]
  },
  {
   "cell_type": "code",
   "execution_count": 25,
   "metadata": {},
   "outputs": [],
   "source": [
    "reviews = [\"Anacell provides the best services in the city whereas betacellular is the best of the world\",\n",
    "  \"cetracular has awesome services, cetracular is good, cetracular is awesome!\",\n",
    "  \"Best services provided by anacell, everyone should use anacell\",\n",
    "  \"Wow, betacellular services are good.\",]\n",
    "keywords_list = [\"anacell\", \"cetracular\", \"betacellular\"]"
   ]
  },
  {
   "cell_type": "code",
   "execution_count": 31,
   "metadata": {},
   "outputs": [
    {
     "name": "stdout",
     "output_type": "stream",
     "text": [
      "{'anacell': 1, 'betacellular': 1}\n",
      "{'cetracular': 3}\n",
      "{'anacell': 1}\n",
      "{'betacellular': 1}\n"
     ]
    }
   ],
   "source": [
    "# Seu código aqui\n",
    "for frase in reviews:\n",
    "    dict00 = {}\n",
    "    # print(frase)\n",
    "    for palavra in frase.split():\n",
    "        # print(palavra)\n",
    "        if palavra.lower() in keywords_list:\n",
    "            if palavra.lower() not in dict00.keys():\n",
    "                dict00[palavra.lower()] = 1\n",
    "            else:\n",
    "                dict00[palavra.lower()] += 1\n",
    "    print(dict00)\n"
   ]
  },
  {
   "cell_type": "markdown",
   "metadata": {
    "id": "A2T86JzMwoLT"
   },
   "source": [
    "### Expressões Regulares\n",
    "\n",
    "Filtre a lista abaixo, retornando somente as strings que contêm **pelo menos um dígito** e **pelo menos uma letra minúscula**.\n",
    "\n",
    "Novamente, use `re.search`."
   ]
  },
  {
   "cell_type": "code",
   "execution_count": null,
   "metadata": {
    "id": "rcVk3Gabwomy"
   },
   "outputs": [],
   "source": [
    "data = ['123abc', 'abc123', 'JohnSmith1', 'ABBY4', 'JANE']"
   ]
  },
  {
   "cell_type": "code",
   "execution_count": 47,
   "metadata": {},
   "outputs": [
    {
     "data": {
      "text/plain": [
       "[]"
      ]
     },
     "execution_count": 47,
     "metadata": {},
     "output_type": "execute_result"
    }
   ],
   "source": [
    "palavra = \"ABBY4\"\n",
    "padrao = r\".*\\d.*[a-z].*|.*[a-z].*\\d.*\" \n",
    "re.findall(padrao, palavra)"
   ]
  },
  {
   "cell_type": "code",
   "execution_count": null,
   "metadata": {},
   "outputs": [],
   "source": []
  },
  {
   "cell_type": "code",
   "execution_count": 48,
   "metadata": {},
   "outputs": [
    {
     "name": "stdout",
     "output_type": "stream",
     "text": [
      "['123abc', 'abc123', 'JohnSmith1']\n"
     ]
    }
   ],
   "source": [
    "# Seu código aqui\n",
    "import re\n",
    "padrao = r\".*\\d.*[a-z].*|.*[a-z].*\\d.*\"\n",
    "data00 = []\n",
    "#re.search(padrao, data[])\n",
    "for palavra in data:\n",
    "    if re.findall(padrao, palavra):\n",
    "        data00.append(palavra)\n",
    "    \n",
    "print(data00)\n",
    "\n",
    "\n"
   ]
  }
 ],
 "metadata": {
  "colab": {
   "collapsed_sections": [],
   "name": "main.ipynb",
   "provenance": []
  },
  "kernelspec": {
   "display_name": "Python 3 (ipykernel)",
   "language": "python",
   "name": "python3"
  },
  "language_info": {
   "codemirror_mode": {
    "name": "ipython",
    "version": 3
   },
   "file_extension": ".py",
   "mimetype": "text/x-python",
   "name": "python",
   "nbconvert_exporter": "python",
   "pygments_lexer": "ipython3",
   "version": "3.9.13"
  },
  "toc": {
   "base_numbering": 1,
   "nav_menu": {},
   "number_sections": true,
   "sideBar": true,
   "skip_h1_title": false,
   "title_cell": "Table of Contents",
   "title_sidebar": "Contents",
   "toc_cell": false,
   "toc_position": {},
   "toc_section_display": true,
   "toc_window_display": false
  },
  "varInspector": {
   "cols": {
    "lenName": 16,
    "lenType": 16,
    "lenVar": 40
   },
   "kernels_config": {
    "python": {
     "delete_cmd_postfix": "",
     "delete_cmd_prefix": "del ",
     "library": "var_list.py",
     "varRefreshCmd": "print(var_dic_list())"
    },
    "r": {
     "delete_cmd_postfix": ") ",
     "delete_cmd_prefix": "rm(",
     "library": "var_list.r",
     "varRefreshCmd": "cat(var_dic_list()) "
    }
   },
   "types_to_exclude": [
    "module",
    "function",
    "builtin_function_or_method",
    "instance",
    "_Feature"
   ],
   "window_display": false
  },
  "vscode": {
   "interpreter": {
    "hash": "7869b160c3910301faef0a277a4870fbba5b5242c72c77312845f42f06961f70"
   }
  }
 },
 "nbformat": 4,
 "nbformat_minor": 1
}
