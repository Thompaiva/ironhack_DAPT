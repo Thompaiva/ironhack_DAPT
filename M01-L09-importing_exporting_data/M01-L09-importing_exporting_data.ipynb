{
 "cells": [
  {
   "cell_type": "markdown",
   "metadata": {
    "colab_type": "text",
    "id": "V7OsvNmsvAXG"
   },
   "source": [
    "![Ironhack logo](https://i.imgur.com/1QgrNNw.png)\n",
    "\n",
    "# Lab | Importing and Exporting Files\n",
    "\n",
    "\n",
    "## Introduction\n",
    "\n",
    "Without data, we couldn't really be data scientists. Therefore, this lab will discuss the task of importing and exporting data into pandas using different file formats.\n",
    "\n",
    "## Getting Started\n",
    "\n",
    "Follow the instructions and add your code and explanations as necessary. By the end of this lab, you will have learned how to import and export JSON, csv, and Excel files.\n",
    "\n",
    "## Resources\n",
    "\n",
    "[Pandas - the `read_csv` function](https://pandas.pydata.org/pandas-docs/stable/generated/pandas.read_csv.html)\n",
    "\n",
    "[Pandas - the `read_json` function](https://pandas.pydata.org/pandas-docs/stable/generated/pandas.read_json.html)\n",
    "\n",
    "[Pandas - the `read_excel` function](https://pandas.pydata.org/pandas-docs/stable/generated/pandas.read_excel.html)"
   ]
  },
  {
   "cell_type": "code",
   "execution_count": 3,
   "metadata": {},
   "outputs": [
    {
     "name": "stdout",
     "output_type": "stream",
     "text": [
      "Requirement already satisfied: openpyxl in c:\\users\\t-gamer\\anaconda3\\lib\\site-packages (3.0.10)\n",
      "Requirement already satisfied: et_xmlfile in c:\\users\\t-gamer\\anaconda3\\lib\\site-packages (from openpyxl) (1.1.0)\n",
      "Collecting fastparquet\n",
      "  Downloading fastparquet-2023.1.0-cp39-cp39-win_amd64.whl (619 kB)\n",
      "     -------------------------------------- 619.1/619.1 kB 9.7 MB/s eta 0:00:00\n",
      "Collecting cramjam>=2.3\n",
      "  Downloading cramjam-2.6.2-cp39-none-win_amd64.whl (1.2 MB)\n",
      "     ---------------------------------------- 1.2/1.2 MB 11.4 MB/s eta 0:00:00\n",
      "Requirement already satisfied: fsspec in c:\\users\\t-gamer\\anaconda3\\lib\\site-packages (from fastparquet) (2022.7.1)\n",
      "Requirement already satisfied: packaging in c:\\users\\t-gamer\\anaconda3\\lib\\site-packages (from fastparquet) (21.3)\n",
      "Requirement already satisfied: numpy>=1.20.3 in c:\\users\\t-gamer\\anaconda3\\lib\\site-packages (from fastparquet) (1.21.5)\n",
      "Collecting pandas>=1.5.0\n",
      "  Downloading pandas-1.5.3-cp39-cp39-win_amd64.whl (10.9 MB)\n",
      "     --------------------------------------- 10.9/10.9 MB 11.5 MB/s eta 0:00:00\n",
      "Requirement already satisfied: pytz>=2020.1 in c:\\users\\t-gamer\\anaconda3\\lib\\site-packages (from pandas>=1.5.0->fastparquet) (2022.1)\n",
      "Requirement already satisfied: python-dateutil>=2.8.1 in c:\\users\\t-gamer\\anaconda3\\lib\\site-packages (from pandas>=1.5.0->fastparquet) (2.8.2)\n",
      "Requirement already satisfied: pyparsing!=3.0.5,>=2.0.2 in c:\\users\\t-gamer\\anaconda3\\lib\\site-packages (from packaging->fastparquet) (3.0.9)\n",
      "Requirement already satisfied: six>=1.5 in c:\\users\\t-gamer\\anaconda3\\lib\\site-packages (from python-dateutil>=2.8.1->pandas>=1.5.0->fastparquet) (1.16.0)\n",
      "Installing collected packages: cramjam, pandas, fastparquet\n",
      "  Attempting uninstall: pandas\n",
      "    Found existing installation: pandas 1.4.4\n",
      "    Uninstalling pandas-1.4.4:\n",
      "      Successfully uninstalled pandas-1.4.4\n",
      "Successfully installed cramjam-2.6.2 fastparquet-2023.1.0 pandas-1.5.3\n"
     ]
    }
   ],
   "source": [
    "!pip install openpyxl\n",
    "!pip install fastparquet"
   ]
  },
  {
   "cell_type": "markdown",
   "metadata": {
    "colab_type": "text",
    "id": "CJTC3cuZvGLY"
   },
   "source": [
    "# Challenge 1 - Working with JSON files\n",
    "\n",
    "Import the pandas library."
   ]
  },
  {
   "cell_type": "code",
   "execution_count": 2,
   "metadata": {
    "colab": {},
    "colab_type": "code",
    "id": "ZfCyzg29vGLZ"
   },
   "outputs": [],
   "source": [
    "# your code here\n",
    "import pandas as pd\n",
    "import numpy as np"
   ]
  },
  {
   "cell_type": "markdown",
   "metadata": {
    "colab_type": "text",
    "id": "HYB6cJoLvGLe"
   },
   "source": [
    "In the next cell, load the data in `nasa.json` in the `data` folder and load it into a pandas dataframe. Name the dataframe `nasa`."
   ]
  },
  {
   "cell_type": "code",
   "execution_count": 18,
   "metadata": {
    "colab": {},
    "colab_type": "code",
    "id": "ElnVLa4bvGLf"
   },
   "outputs": [
    {
     "data": {
      "text/html": [
       "<div>\n",
       "<style scoped>\n",
       "    .dataframe tbody tr th:only-of-type {\n",
       "        vertical-align: middle;\n",
       "    }\n",
       "\n",
       "    .dataframe tbody tr th {\n",
       "        vertical-align: top;\n",
       "    }\n",
       "\n",
       "    .dataframe thead th {\n",
       "        text-align: right;\n",
       "    }\n",
       "</style>\n",
       "<table border=\"1\" class=\"dataframe\">\n",
       "  <thead>\n",
       "    <tr style=\"text-align: right;\">\n",
       "      <th></th>\n",
       "      <th>:@computed_region_cbhk_fwbd</th>\n",
       "      <th>:@computed_region_nnqa_25f4</th>\n",
       "      <th>fall</th>\n",
       "      <th>geolocation</th>\n",
       "      <th>id</th>\n",
       "      <th>mass</th>\n",
       "      <th>name</th>\n",
       "      <th>nametype</th>\n",
       "      <th>recclass</th>\n",
       "      <th>reclat</th>\n",
       "      <th>reclong</th>\n",
       "      <th>year</th>\n",
       "    </tr>\n",
       "  </thead>\n",
       "  <tbody>\n",
       "    <tr>\n",
       "      <th>0</th>\n",
       "      <td>NaN</td>\n",
       "      <td>NaN</td>\n",
       "      <td>Fell</td>\n",
       "      <td>{'type': 'Point', 'coordinates': [6.08333, 50....</td>\n",
       "      <td>1</td>\n",
       "      <td>21.0</td>\n",
       "      <td>Aachen</td>\n",
       "      <td>Valid</td>\n",
       "      <td>L5</td>\n",
       "      <td>50.77500</td>\n",
       "      <td>6.08333</td>\n",
       "      <td>1880-01-01T00:00:00.000</td>\n",
       "    </tr>\n",
       "    <tr>\n",
       "      <th>1</th>\n",
       "      <td>NaN</td>\n",
       "      <td>NaN</td>\n",
       "      <td>Fell</td>\n",
       "      <td>{'type': 'Point', 'coordinates': [10.23333, 56...</td>\n",
       "      <td>2</td>\n",
       "      <td>720.0</td>\n",
       "      <td>Aarhus</td>\n",
       "      <td>Valid</td>\n",
       "      <td>H6</td>\n",
       "      <td>56.18333</td>\n",
       "      <td>10.23333</td>\n",
       "      <td>1951-01-01T00:00:00.000</td>\n",
       "    </tr>\n",
       "    <tr>\n",
       "      <th>2</th>\n",
       "      <td>NaN</td>\n",
       "      <td>NaN</td>\n",
       "      <td>Fell</td>\n",
       "      <td>{'type': 'Point', 'coordinates': [-113, 54.216...</td>\n",
       "      <td>6</td>\n",
       "      <td>107000.0</td>\n",
       "      <td>Abee</td>\n",
       "      <td>Valid</td>\n",
       "      <td>EH4</td>\n",
       "      <td>54.21667</td>\n",
       "      <td>-113.00000</td>\n",
       "      <td>1952-01-01T00:00:00.000</td>\n",
       "    </tr>\n",
       "    <tr>\n",
       "      <th>3</th>\n",
       "      <td>NaN</td>\n",
       "      <td>NaN</td>\n",
       "      <td>Fell</td>\n",
       "      <td>{'type': 'Point', 'coordinates': [-99.9, 16.88...</td>\n",
       "      <td>10</td>\n",
       "      <td>1914.0</td>\n",
       "      <td>Acapulco</td>\n",
       "      <td>Valid</td>\n",
       "      <td>Acapulcoite</td>\n",
       "      <td>16.88333</td>\n",
       "      <td>-99.90000</td>\n",
       "      <td>1976-01-01T00:00:00.000</td>\n",
       "    </tr>\n",
       "    <tr>\n",
       "      <th>4</th>\n",
       "      <td>NaN</td>\n",
       "      <td>NaN</td>\n",
       "      <td>Fell</td>\n",
       "      <td>{'type': 'Point', 'coordinates': [-64.95, -33....</td>\n",
       "      <td>370</td>\n",
       "      <td>780.0</td>\n",
       "      <td>Achiras</td>\n",
       "      <td>Valid</td>\n",
       "      <td>L6</td>\n",
       "      <td>-33.16667</td>\n",
       "      <td>-64.95000</td>\n",
       "      <td>1902-01-01T00:00:00.000</td>\n",
       "    </tr>\n",
       "  </tbody>\n",
       "</table>\n",
       "</div>"
      ],
      "text/plain": [
       "   :@computed_region_cbhk_fwbd  :@computed_region_nnqa_25f4  fall  \\\n",
       "0                          NaN                          NaN  Fell   \n",
       "1                          NaN                          NaN  Fell   \n",
       "2                          NaN                          NaN  Fell   \n",
       "3                          NaN                          NaN  Fell   \n",
       "4                          NaN                          NaN  Fell   \n",
       "\n",
       "                                         geolocation   id      mass      name  \\\n",
       "0  {'type': 'Point', 'coordinates': [6.08333, 50....    1      21.0    Aachen   \n",
       "1  {'type': 'Point', 'coordinates': [10.23333, 56...    2     720.0    Aarhus   \n",
       "2  {'type': 'Point', 'coordinates': [-113, 54.216...    6  107000.0      Abee   \n",
       "3  {'type': 'Point', 'coordinates': [-99.9, 16.88...   10    1914.0  Acapulco   \n",
       "4  {'type': 'Point', 'coordinates': [-64.95, -33....  370     780.0   Achiras   \n",
       "\n",
       "  nametype     recclass    reclat    reclong                     year  \n",
       "0    Valid           L5  50.77500    6.08333  1880-01-01T00:00:00.000  \n",
       "1    Valid           H6  56.18333   10.23333  1951-01-01T00:00:00.000  \n",
       "2    Valid          EH4  54.21667 -113.00000  1952-01-01T00:00:00.000  \n",
       "3    Valid  Acapulcoite  16.88333  -99.90000  1976-01-01T00:00:00.000  \n",
       "4    Valid           L6 -33.16667  -64.95000  1902-01-01T00:00:00.000  "
      ]
     },
     "execution_count": 18,
     "metadata": {},
     "output_type": "execute_result"
    }
   ],
   "source": [
    "# your code here\n",
    "nasa = pd.read_json('data/nasa.json', orient = 'records')\n",
    "nasa.head()\n",
    "    "
   ]
  },
  {
   "cell_type": "markdown",
   "metadata": {
    "colab_type": "text",
    "id": "BJpKsVjbvGLj"
   },
   "source": [
    "Now that we have loaded the data, let's examine it using the `head()` function.\n",
    "\n",
    "Expected output:\n",
    "\n",
    "|    |   :@computed_region_cbhk_fwbd |   :@computed_region_nnqa_25f4 | fall   | geolocation                                            |   id |   mass | name     | nametype   | recclass    |   reclat |    reclong | year                    |\n",
    "|---:|------------------------------:|------------------------------:|:-------|:-------------------------------------------------------|-----:|-------:|:---------|:-----------|:------------|---------:|-----------:|:------------------------|\n",
    "|  0 |                           nan |                           nan | Fell   | {'type': 'Point', 'coordinates': [6.08333, 50.775]}    |    1 |     21 | Aachen   | Valid      | L5          |  50.775  |    6.08333 | 1880-01-01T00:00:00.000 |\n",
    "|  1 |                           nan |                           nan | Fell   | {'type': 'Point', 'coordinates': [10.23333, 56.18333]} |    2 |    720 | Aarhus   | Valid      | H6          |  56.1833 |   10.2333  | 1951-01-01T00:00:00.000 |\n",
    "|  2 |                           nan |                           nan | Fell   | {'type': 'Point', 'coordinates': [-113, 54.21667]}     |    6 | 107000 | Abee     | Valid      | EH4         |  54.2167 | -113       | 1952-01-01T00:00:00.000 |\n",
    "|  3 |                           nan |                           nan | Fell   | {'type': 'Point', 'coordinates': [-99.9, 16.88333]}    |   10 |   1914 | Acapulco | Valid      | Acapulcoite |  16.8833 |  -99.9     | 1976-01-01T00:00:00.000 |\n",
    "|  4 |                           nan |                           nan | Fell   | {'type': 'Point', 'coordinates': [-64.95, -33.16667]}  |  370 |    780 | Achiras  | Valid      | L6          | -33.1667 |  -64.95    | 1902-01-01T00:00:00.000 |"
   ]
  },
  {
   "cell_type": "code",
   "execution_count": null,
   "metadata": {
    "colab": {},
    "colab_type": "code",
    "id": "I1Y1Tk-LvGLk"
   },
   "outputs": [],
   "source": [
    "# your code here\n",
    "#na celula de cima"
   ]
  },
  {
   "cell_type": "markdown",
   "metadata": {
    "colab_type": "text",
    "id": "BvZuhPG6vGLp"
   },
   "source": [
    "#### The `value_counts()` function is commonly used in pandas to find the frequency of every value in a column.\n",
    "\n",
    "In the cell below, use the `value_counts()` function to determine the frequency of all types of asteroid landings by applying the function to the `fall` column.\n",
    "\n",
    "Expected output:\n",
    "\n",
    "````python\n",
    "            Fell     996\n",
    "            Found      4\n",
    "            Name: fall, dtype: int64\n",
    "````"
   ]
  },
  {
   "cell_type": "code",
   "execution_count": 23,
   "metadata": {
    "colab": {},
    "colab_type": "code",
    "id": "Oz9U8zfUvGLq"
   },
   "outputs": [
    {
     "data": {
      "text/plain": [
       "Fell     996\n",
       "Found      4\n",
       "Name: fall, dtype: int64"
      ]
     },
     "execution_count": 23,
     "metadata": {},
     "output_type": "execute_result"
    }
   ],
   "source": [
    "# your code here\n",
    "nasa['fall'].value_counts()"
   ]
  },
  {
   "cell_type": "markdown",
   "metadata": {
    "colab_type": "text",
    "id": "QcIWcKftvGLt"
   },
   "source": [
    "Finally, let's save the dataframe as a json file again. Save the dataframe using the `orient=records` argument and name the file `nasa-output.json`. Remember to save the file inside the `data` folder."
   ]
  },
  {
   "cell_type": "code",
   "execution_count": 24,
   "metadata": {
    "colab": {},
    "colab_type": "code",
    "id": "qkxraEexvGLv"
   },
   "outputs": [],
   "source": [
    "# your code here\n",
    "nasa.to_json('nasa-output.json', orient = 'records')"
   ]
  },
  {
   "cell_type": "markdown",
   "metadata": {
    "colab_type": "text",
    "id": "axa7sbievGLy"
   },
   "source": [
    "# Challenge 2 - Working with CSV and Other Separated Files\n",
    "\n",
    "CSV files are more commonly used as dataframes. In the cell below, load the file from the URL provided using the `read_csv()` function in pandas. Starting version 0.19 of pandas, you can load a CSV file into a dataframe directly from a URL without having to load the file first and then transform it. The dataset we will be using contains information about NASA shuttles.\n",
    "\n",
    "In the cell below, we define the column names and the URL of the data. Following this cell, read the tst file to a variable called `shuttle`. Since the file does not contain the column names, you must add them yourself using the column names declared in `cols` using the `names` argument. Additionally, a tst file is space separated, make sure you pass ` sep=' '` to the function."
   ]
  },
  {
   "cell_type": "code",
   "execution_count": 26,
   "metadata": {
    "colab": {},
    "colab_type": "code",
    "id": "F2qUz8s8vGLz"
   },
   "outputs": [],
   "source": [
    "cols = ['time', 'rad_flow', 'fpv_close', 'fpv_open', 'high', 'bypass', 'bpv_close', 'bpv_open', 'class']\n",
    "tst_url = 'https://archive.ics.uci.edu/ml/machine-learning-databases/statlog/shuttle/shuttle.tst'"
   ]
  },
  {
   "cell_type": "code",
   "execution_count": 30,
   "metadata": {
    "colab": {},
    "colab_type": "code",
    "id": "hulJjyObvGL2"
   },
   "outputs": [
    {
     "data": {
      "text/html": [
       "<div>\n",
       "<style scoped>\n",
       "    .dataframe tbody tr th:only-of-type {\n",
       "        vertical-align: middle;\n",
       "    }\n",
       "\n",
       "    .dataframe tbody tr th {\n",
       "        vertical-align: top;\n",
       "    }\n",
       "\n",
       "    .dataframe thead th {\n",
       "        text-align: right;\n",
       "    }\n",
       "</style>\n",
       "<table border=\"1\" class=\"dataframe\">\n",
       "  <thead>\n",
       "    <tr style=\"text-align: right;\">\n",
       "      <th></th>\n",
       "      <th>time</th>\n",
       "      <th>rad_flow</th>\n",
       "      <th>fpv_close</th>\n",
       "      <th>fpv_open</th>\n",
       "      <th>high</th>\n",
       "      <th>bypass</th>\n",
       "      <th>bpv_close</th>\n",
       "      <th>bpv_open</th>\n",
       "      <th>class</th>\n",
       "    </tr>\n",
       "  </thead>\n",
       "  <tbody>\n",
       "    <tr>\n",
       "      <th>55</th>\n",
       "      <td>0</td>\n",
       "      <td>81</td>\n",
       "      <td>0</td>\n",
       "      <td>-6</td>\n",
       "      <td>11</td>\n",
       "      <td>25</td>\n",
       "      <td>88</td>\n",
       "      <td>64</td>\n",
       "      <td>4</td>\n",
       "    </tr>\n",
       "    <tr>\n",
       "      <th>56</th>\n",
       "      <td>0</td>\n",
       "      <td>96</td>\n",
       "      <td>0</td>\n",
       "      <td>52</td>\n",
       "      <td>-4</td>\n",
       "      <td>40</td>\n",
       "      <td>44</td>\n",
       "      <td>4</td>\n",
       "      <td>4</td>\n",
       "    </tr>\n",
       "    <tr>\n",
       "      <th>50</th>\n",
       "      <td>-1</td>\n",
       "      <td>89</td>\n",
       "      <td>-7</td>\n",
       "      <td>50</td>\n",
       "      <td>0</td>\n",
       "      <td>39</td>\n",
       "      <td>40</td>\n",
       "      <td>2</td>\n",
       "      <td>1</td>\n",
       "    </tr>\n",
       "    <tr>\n",
       "      <th>53</th>\n",
       "      <td>9</td>\n",
       "      <td>79</td>\n",
       "      <td>0</td>\n",
       "      <td>42</td>\n",
       "      <td>-2</td>\n",
       "      <td>25</td>\n",
       "      <td>37</td>\n",
       "      <td>12</td>\n",
       "      <td>4</td>\n",
       "    </tr>\n",
       "    <tr>\n",
       "      <th>55</th>\n",
       "      <td>2</td>\n",
       "      <td>82</td>\n",
       "      <td>0</td>\n",
       "      <td>54</td>\n",
       "      <td>-6</td>\n",
       "      <td>26</td>\n",
       "      <td>28</td>\n",
       "      <td>2</td>\n",
       "      <td>1</td>\n",
       "    </tr>\n",
       "  </tbody>\n",
       "</table>\n",
       "</div>"
      ],
      "text/plain": [
       "    time  rad_flow  fpv_close  fpv_open  high  bypass  bpv_close  bpv_open  \\\n",
       "55     0        81          0        -6    11      25         88        64   \n",
       "56     0        96          0        52    -4      40         44         4   \n",
       "50    -1        89         -7        50     0      39         40         2   \n",
       "53     9        79          0        42    -2      25         37        12   \n",
       "55     2        82          0        54    -6      26         28         2   \n",
       "\n",
       "    class  \n",
       "55      4  \n",
       "56      4  \n",
       "50      1  \n",
       "53      4  \n",
       "55      1  "
      ]
     },
     "execution_count": 30,
     "metadata": {},
     "output_type": "execute_result"
    }
   ],
   "source": [
    "# your code here\n",
    "shuttle = pd.read_csv(tst_url,sep = ' ' ,names=cols)\n",
    "shuttle.head()"
   ]
  },
  {
   "cell_type": "markdown",
   "metadata": {
    "colab_type": "text",
    "id": "MOYas3mlvGL7"
   },
   "source": [
    "Let's verify that this worked by looking at the `head()` function.\n",
    "\n",
    "Expected output:\n",
    "\n",
    "|    |   time |   rad_flow |   fpv_close |   fpv_open |   high |   bypass |   bpv_close |   bpv_open |   class |\n",
    "|---:|-------:|-----------:|------------:|-----------:|-------:|---------:|------------:|-----------:|--------:|\n",
    "| 55 |      0 |         81 |           0 |         -6 |     11 |       25 |          88 |         64 |       4 |\n",
    "| 56 |      0 |         96 |           0 |         52 |     -4 |       40 |          44 |          4 |       4 |\n",
    "| 50 |     -1 |         89 |          -7 |         50 |      0 |       39 |          40 |          2 |       1 |\n",
    "| 53 |      9 |         79 |           0 |         42 |     -2 |       25 |          37 |         12 |       4 |\n",
    "| 55 |      2 |         82 |           0 |         54 |     -6 |       26 |          28 |          2 |       1 |"
   ]
  },
  {
   "cell_type": "code",
   "execution_count": null,
   "metadata": {
    "colab": {},
    "colab_type": "code",
    "id": "SgwATvwavGL8"
   },
   "outputs": [],
   "source": [
    "# your code here\n",
    "#feito acima"
   ]
  },
  {
   "cell_type": "markdown",
   "metadata": {
    "colab_type": "text",
    "id": "q4gGc__tvGMA"
   },
   "source": [
    "To make life easier for us, let's turn this dataframe into a comma separated file by saving it using the `to_csv()` function. Save `shuttle` into the file `shuttle.csv` and ensure the file is comma separated, that we are not saving the index column and that the file is saved inside the `data` folder."
   ]
  },
  {
   "cell_type": "code",
   "execution_count": 33,
   "metadata": {
    "colab": {},
    "colab_type": "code",
    "id": "rEGWQZBRvGMB"
   },
   "outputs": [],
   "source": [
    "# your code here\n",
    "shuttle.to_csv('data/shuttle.csv', sep = ' ', decimal = ',', encoding = 'utf-8', index = False )"
   ]
  },
  {
   "cell_type": "markdown",
   "metadata": {
    "colab_type": "text",
    "id": "uRQzGKMsvGME"
   },
   "source": [
    "# Challenge 3 - Working with Excel Files\n",
    "\n",
    "We can also use pandas to convert excel spreadsheets to dataframes. Let's use the `read_excel()` function. In this case, `astronauts.xls` is in the `data` folder. Read this file into a variable called `astronaut`. \n",
    "\n",
    "Note: Make sure to install the `xlrd` library if it is not yet installed.\n",
    "\n",
    "````python\n",
    "pip install xlrd\n",
    "````"
   ]
  },
  {
   "cell_type": "code",
   "execution_count": 3,
   "metadata": {
    "colab": {},
    "colab_type": "code",
    "id": "K_LIYd1gvGMF"
   },
   "outputs": [],
   "source": [
    "# your code here\n",
    "astronaut = pd.read_excel('./data/astronauts.xls')"
   ]
  },
  {
   "cell_type": "markdown",
   "metadata": {
    "colab_type": "text",
    "id": "2MCgVFvRvGMI"
   },
   "source": [
    "Use the `head()` function to inspect the dataframe.\n",
    "\n",
    "Expected output:\n",
    "\n",
    "|    | Name             |   Year |   Group | Status   | Birth Date          | Birth Place   | Gender   | Alma Mater                                                    | Undergraduate Major    | Graduate Major        | Military Rank   | Military Branch        |   Space Flights |   Space Flight (hr) |   Space Walks |   Space Walks (hr) | Missions                                                                    | Death Date   |   Death Mission |\n",
    "|---:|:-----------------|-------:|--------:|:---------|:--------------------|:--------------|:---------|:--------------------------------------------------------------|:-----------------------|:----------------------|:----------------|:-----------------------|----------------:|--------------------:|--------------:|-------------------:|:----------------------------------------------------------------------------|:-------------|----------------:|\n",
    "|  0 | Joseph M. Acaba  |   2004 |      19 | Active   | 1967-05-17 00:00:00 | Inglewood, CA | Male     | University of California-Santa Barbara; University of Arizona | Geology                | Geology               | nan             | nan                    |               2 |                3307 |             2 |                 13 | STS-119 (Discovery), ISS-31/32 (Soyuz)                                      | NaT          |             nan |\n",
    "|  1 | Loren W. Acton   |    nan |     nan | Retired  | 1936-03-07 00:00:00 | Lewiston, MT  | Male     | Montana State University; University of Colorado              | Engineering Physics    | Solar Physics         | nan             | nan                    |               1 |                 190 |             0 |                  0 | STS 51-F (Challenger)                                                       | NaT          |             nan |\n",
    "|  2 | James C. Adamson |   1984 |      10 | Retired  | 1946-03-03 00:00:00 | Warsaw, NY    | Male     | US Military Academy; Princeton University                     | Engineering            | Aerospace Engineering | Colonel         | US Army (Retired)      |               2 |                 334 |             0 |                  0 | STS-28 (Columbia), STS-43 (Atlantis)                                        | NaT          |             nan |\n",
    "|  3 | Thomas D. Akers  |   1987 |      12 | Retired  | 1951-05-20 00:00:00 | St. Louis, MO | Male     | University of Missouri-Rolla                                  | Applied Mathematics    | Applied Mathematics   | Colonel         | US Air Force (Retired) |               4 |                 814 |             4 |                 29 | STS-41 (Discovery), STS-49 (Endeavor), STS-61 (Endeavor), STS-79 (Atlantis) | NaT          |             nan |\n",
    "|  4 | Buzz Aldrin      |   1963 |       3 | Retired  | 1930-01-20 00:00:00 | Montclair, NJ | Male     | US Military Academy; MIT                                      | Mechanical Engineering | Astronautics          | Colonel         | US Air Force (Retired) |               2 |                 289 |             2 |                  8 | Gemini 12, Apollo 11                                                        | NaT          |             nan |"
   ]
  },
  {
   "cell_type": "code",
   "execution_count": 4,
   "metadata": {
    "colab": {},
    "colab_type": "code",
    "id": "R-0CQ612vGMJ"
   },
   "outputs": [
    {
     "data": {
      "text/plain": [
       "Physics                                  35\n",
       "Aerospace Engineering                    33\n",
       "Mechanical Engineering                   30\n",
       "Aeronautical Engineering                 28\n",
       "Electrical Engineering                   23\n",
       "                                         ..\n",
       "Astronomy                                 1\n",
       "Marine Engineering & Nautical Science     1\n",
       "Philosophy                                1\n",
       "Bioscience                                1\n",
       "Military Science                          1\n",
       "Name: Undergraduate Major, Length: 83, dtype: int64"
      ]
     },
     "execution_count": 4,
     "metadata": {},
     "output_type": "execute_result"
    }
   ],
   "source": [
    "# your code here\n",
    "astronaut['Undergraduate Major'].value_counts()\n"
   ]
  },
  {
   "cell_type": "markdown",
   "metadata": {
    "colab_type": "text",
    "id": "qhTMRyK4vGMN"
   },
   "source": [
    "Use the `value_counts()` function to find the most popular undergraduate major among all astronauts.\n",
    "\n",
    "Expected output:\n",
    "\n",
    "````\n",
    "            Physics                                                                35\n",
    "            Aerospace Engineering                                                  33\n",
    "            Mechanical Engineering                                                 30\n",
    "            Aeronautical Engineering                                               28\n",
    "            Electrical Engineering                                                 23\n",
    "                                                                                   ..\n",
    "            Physics & Astronautical Engineering                                     1\n",
    "            Philosophy                                                              1\n",
    "            Psychology                                                              1\n",
    "            Aeronautics & Astronautics; Earth, Atmospheric & Planetary Sciences     1\n",
    "            Electrical Science                                                      1\n",
    "            Name: Undergraduate Major, Length: 83, dtype: int64\n",
    "\n",
    "````"
   ]
  },
  {
   "cell_type": "code",
   "execution_count": 5,
   "metadata": {
    "colab": {},
    "colab_type": "code",
    "id": "dpwjP26BvGMP"
   },
   "outputs": [],
   "source": [
    "# your code here\n",
    "astronaut.to_csv('./data/astronaut2.csv',index=False)"
   ]
  },
  {
   "cell_type": "markdown",
   "metadata": {
    "colab_type": "text",
    "id": "4qeEgk05vGMT"
   },
   "source": [
    "Due to all the commas present in the cells of this file, let's save it as a tab separated csv file. In the cell below, save `astronaut` as a **tab separated file** using the `to_csv` function. Call the file `astronaut.csv`. Remember to remove the index column and save the file in the `data` folder."
   ]
  },
  {
   "cell_type": "code",
   "execution_count": 7,
   "metadata": {
    "colab": {},
    "colab_type": "code",
    "id": "yuA1rdQGvGMU"
   },
   "outputs": [
    {
     "data": {
      "text/html": [
       "<div>\n",
       "<style scoped>\n",
       "    .dataframe tbody tr th:only-of-type {\n",
       "        vertical-align: middle;\n",
       "    }\n",
       "\n",
       "    .dataframe tbody tr th {\n",
       "        vertical-align: top;\n",
       "    }\n",
       "\n",
       "    .dataframe thead th {\n",
       "        text-align: right;\n",
       "    }\n",
       "</style>\n",
       "<table border=\"1\" class=\"dataframe\">\n",
       "  <thead>\n",
       "    <tr style=\"text-align: right;\">\n",
       "      <th></th>\n",
       "      <th>0</th>\n",
       "      <th>1</th>\n",
       "      <th>2</th>\n",
       "      <th>3</th>\n",
       "      <th>4</th>\n",
       "      <th>5</th>\n",
       "      <th>6</th>\n",
       "      <th>7</th>\n",
       "      <th>8</th>\n",
       "      <th>9</th>\n",
       "    </tr>\n",
       "  </thead>\n",
       "  <tbody>\n",
       "    <tr>\n",
       "      <th>0</th>\n",
       "      <td>-0.33</td>\n",
       "      <td>0.69</td>\n",
       "      <td>0</td>\n",
       "      <td>1</td>\n",
       "      <td>1</td>\n",
       "      <td>0</td>\n",
       "      <td>0.8</td>\n",
       "      <td>0</td>\n",
       "      <td>0.88</td>\n",
       "      <td>N</td>\n",
       "    </tr>\n",
       "    <tr>\n",
       "      <th>1</th>\n",
       "      <td>-0.33</td>\n",
       "      <td>0.94</td>\n",
       "      <td>1</td>\n",
       "      <td>0</td>\n",
       "      <td>1</td>\n",
       "      <td>0</td>\n",
       "      <td>0.8</td>\n",
       "      <td>1</td>\n",
       "      <td>0.31</td>\n",
       "      <td>O</td>\n",
       "    </tr>\n",
       "    <tr>\n",
       "      <th>2</th>\n",
       "      <td>-0.33</td>\n",
       "      <td>0.50</td>\n",
       "      <td>1</td>\n",
       "      <td>0</td>\n",
       "      <td>0</td>\n",
       "      <td>0</td>\n",
       "      <td>1.0</td>\n",
       "      <td>-1</td>\n",
       "      <td>0.50</td>\n",
       "      <td>N</td>\n",
       "    </tr>\n",
       "    <tr>\n",
       "      <th>3</th>\n",
       "      <td>-0.33</td>\n",
       "      <td>0.75</td>\n",
       "      <td>0</td>\n",
       "      <td>1</td>\n",
       "      <td>1</td>\n",
       "      <td>0</td>\n",
       "      <td>1.0</td>\n",
       "      <td>-1</td>\n",
       "      <td>0.38</td>\n",
       "      <td>N</td>\n",
       "    </tr>\n",
       "    <tr>\n",
       "      <th>4</th>\n",
       "      <td>-0.33</td>\n",
       "      <td>0.67</td>\n",
       "      <td>1</td>\n",
       "      <td>1</td>\n",
       "      <td>0</td>\n",
       "      <td>0</td>\n",
       "      <td>0.8</td>\n",
       "      <td>-1</td>\n",
       "      <td>0.50</td>\n",
       "      <td>O</td>\n",
       "    </tr>\n",
       "  </tbody>\n",
       "</table>\n",
       "</div>"
      ],
      "text/plain": [
       "      0     1  2  3  4  5    6  7     8  9\n",
       "0 -0.33  0.69  0  1  1  0  0.8  0  0.88  N\n",
       "1 -0.33  0.94  1  0  1  0  0.8  1  0.31  O\n",
       "2 -0.33  0.50  1  0  0  0  1.0 -1  0.50  N\n",
       "3 -0.33  0.75  0  1  1  0  1.0 -1  0.38  N\n",
       "4 -0.33  0.67  1  1  0  0  0.8 -1  0.50  O"
      ]
     },
     "execution_count": 7,
     "metadata": {},
     "output_type": "execute_result"
    }
   ],
   "source": [
    "# your code here\n",
    "url=\"https://archive.ics.uci.edu/ml/machine-learning-databases/00244/fertility_Diagnosis.txt\"\n",
    "fertility = pd.read_csv(url, header=None)\n",
    "fertility.head()"
   ]
  },
  {
   "cell_type": "markdown",
   "metadata": {
    "colab_type": "text",
    "id": "Ww56E0nWvGMb"
   },
   "source": [
    "# Bonus Challenge - Fertility Dataset\n",
    "\n",
    "Visit the following [URL](https://archive.ics.uci.edu/ml/datasets/Fertility) and retrieve the dataset as well as the column headers. Determine the correct separator and read the file into a variable called `fertility`. Examine the dataframe using the `head()` function. \n",
    "\n",
    "Expected output:\n",
    "\n",
    "|    |   season |   age |   childish-disease |   trauma |   surgical-intervention |   fevers |   alcoholic |   smoking |   sitting | output   |\n",
    "|---:|---------:|------:|-------------------:|---------:|------------------------:|---------:|------------:|----------:|----------:|:---------|\n",
    "|  0 |    -0.33 |  0.69 |                  0 |        1 |                       1 |        0 |         0.8 |         0 |      0.88 | N        |\n",
    "|  1 |    -0.33 |  0.94 |                  1 |        0 |                       1 |        0 |         0.8 |         1 |      0.31 | O        |\n",
    "|  2 |    -0.33 |  0.5  |                  1 |        0 |                       0 |        0 |         1   |        -1 |      0.5  | N        |\n",
    "|  3 |    -0.33 |  0.75 |                  0 |        1 |                       1 |        0 |         1   |        -1 |      0.38 | N        |\n",
    "|  4 |    -0.33 |  0.67 |                  1 |        1 |                       0 |        0 |         0.8 |        -1 |      0.5  | O        |\n"
   ]
  },
  {
   "cell_type": "code",
   "execution_count": null,
   "metadata": {
    "colab": {},
    "colab_type": "code",
    "id": "Gk9W7y_TvGMc"
   },
   "outputs": [],
   "source": [
    "url=\"https://archive.ics.uci.edu/ml/machine-learning-databases/00244/fertility_Diagnosis.txt\"\n",
    "# Look in Google for a way to retrieve this data!"
   ]
  }
 ],
 "metadata": {
  "colab": {
   "collapsed_sections": [],
   "name": "main.ipynb",
   "provenance": []
  },
  "kernelspec": {
   "display_name": "Python 3 (ipykernel)",
   "language": "python",
   "name": "python3"
  },
  "language_info": {
   "codemirror_mode": {
    "name": "ipython",
    "version": 3
   },
   "file_extension": ".py",
   "mimetype": "text/x-python",
   "name": "python",
   "nbconvert_exporter": "python",
   "pygments_lexer": "ipython3",
   "version": "3.9.13"
  },
  "toc": {
   "base_numbering": 1,
   "nav_menu": {},
   "number_sections": true,
   "sideBar": true,
   "skip_h1_title": false,
   "title_cell": "Table of Contents",
   "title_sidebar": "Contents",
   "toc_cell": false,
   "toc_position": {},
   "toc_section_display": true,
   "toc_window_display": false
  },
  "varInspector": {
   "cols": {
    "lenName": 16,
    "lenType": 16,
    "lenVar": 40
   },
   "kernels_config": {
    "python": {
     "delete_cmd_postfix": "",
     "delete_cmd_prefix": "del ",
     "library": "var_list.py",
     "varRefreshCmd": "print(var_dic_list())"
    },
    "r": {
     "delete_cmd_postfix": ") ",
     "delete_cmd_prefix": "rm(",
     "library": "var_list.r",
     "varRefreshCmd": "cat(var_dic_list()) "
    }
   },
   "types_to_exclude": [
    "module",
    "function",
    "builtin_function_or_method",
    "instance",
    "_Feature"
   ],
   "window_display": false
  }
 },
 "nbformat": 4,
 "nbformat_minor": 2
}
